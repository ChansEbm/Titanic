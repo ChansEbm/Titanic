{
 "cells": [
  {
   "cell_type": "markdown",
   "id": "79b61c6a",
   "metadata": {},
   "source": [
    "## 泰坦尼克号幸存者预测"
   ]
  },
  {
   "cell_type": "code",
   "execution_count": 1,
   "id": "6e76a87e",
   "metadata": {},
   "outputs": [],
   "source": [
    "# 导入相关包\n",
    "import pandas as pd\n",
    "from keras import layers\n",
    "from keras import Sequential\n",
    "from keras.layers import LeakyReLU\n",
    "\n",
    "from sklearn.feature_selection import chi2\n",
    "from sklearn.feature_selection import SelectKBest\n",
    "from sklearn.feature_selection import mutual_info_classif\n",
    "from sklearn.feature_selection import f_classif\n",
    "\n",
    "import seaborn as sns\n",
    "import matplotlib.pyplot as plt\n",
    "import numpy as np"
   ]
  },
  {
   "cell_type": "code",
   "execution_count": 2,
   "id": "8a62f107",
   "metadata": {},
   "outputs": [],
   "source": [
    "# 加载训练表和测试表\n",
    "df_titanic = pd.read_csv('./train.csv')\n",
    "df_test = pd.read_csv(\"./test.csv\")"
   ]
  },
  {
   "cell_type": "code",
   "execution_count": 3,
   "id": "9b5eded9",
   "metadata": {},
   "outputs": [
    {
     "data": {
      "text/html": [
       "<div>\n",
       "<style scoped>\n",
       "    .dataframe tbody tr th:only-of-type {\n",
       "        vertical-align: middle;\n",
       "    }\n",
       "\n",
       "    .dataframe tbody tr th {\n",
       "        vertical-align: top;\n",
       "    }\n",
       "\n",
       "    .dataframe thead th {\n",
       "        text-align: right;\n",
       "    }\n",
       "</style>\n",
       "<table border=\"1\" class=\"dataframe\">\n",
       "  <thead>\n",
       "    <tr style=\"text-align: right;\">\n",
       "      <th></th>\n",
       "      <th>PassengerId</th>\n",
       "      <th>Survived</th>\n",
       "      <th>Pclass</th>\n",
       "      <th>Name</th>\n",
       "      <th>Sex</th>\n",
       "      <th>Age</th>\n",
       "      <th>SibSp</th>\n",
       "      <th>Parch</th>\n",
       "      <th>Ticket</th>\n",
       "      <th>Fare</th>\n",
       "      <th>Cabin</th>\n",
       "      <th>Embarked</th>\n",
       "    </tr>\n",
       "  </thead>\n",
       "  <tbody>\n",
       "    <tr>\n",
       "      <th>0</th>\n",
       "      <td>1</td>\n",
       "      <td>0</td>\n",
       "      <td>3</td>\n",
       "      <td>Braund, Mr. Owen Harris</td>\n",
       "      <td>male</td>\n",
       "      <td>22.0</td>\n",
       "      <td>1</td>\n",
       "      <td>0</td>\n",
       "      <td>A/5 21171</td>\n",
       "      <td>7.2500</td>\n",
       "      <td>NaN</td>\n",
       "      <td>S</td>\n",
       "    </tr>\n",
       "    <tr>\n",
       "      <th>1</th>\n",
       "      <td>2</td>\n",
       "      <td>1</td>\n",
       "      <td>1</td>\n",
       "      <td>Cumings, Mrs. John Bradley (Florence Briggs Th...</td>\n",
       "      <td>female</td>\n",
       "      <td>38.0</td>\n",
       "      <td>1</td>\n",
       "      <td>0</td>\n",
       "      <td>PC 17599</td>\n",
       "      <td>71.2833</td>\n",
       "      <td>C85</td>\n",
       "      <td>C</td>\n",
       "    </tr>\n",
       "    <tr>\n",
       "      <th>2</th>\n",
       "      <td>3</td>\n",
       "      <td>1</td>\n",
       "      <td>3</td>\n",
       "      <td>Heikkinen, Miss. Laina</td>\n",
       "      <td>female</td>\n",
       "      <td>26.0</td>\n",
       "      <td>0</td>\n",
       "      <td>0</td>\n",
       "      <td>STON/O2. 3101282</td>\n",
       "      <td>7.9250</td>\n",
       "      <td>NaN</td>\n",
       "      <td>S</td>\n",
       "    </tr>\n",
       "    <tr>\n",
       "      <th>3</th>\n",
       "      <td>4</td>\n",
       "      <td>1</td>\n",
       "      <td>1</td>\n",
       "      <td>Futrelle, Mrs. Jacques Heath (Lily May Peel)</td>\n",
       "      <td>female</td>\n",
       "      <td>35.0</td>\n",
       "      <td>1</td>\n",
       "      <td>0</td>\n",
       "      <td>113803</td>\n",
       "      <td>53.1000</td>\n",
       "      <td>C123</td>\n",
       "      <td>S</td>\n",
       "    </tr>\n",
       "    <tr>\n",
       "      <th>4</th>\n",
       "      <td>5</td>\n",
       "      <td>0</td>\n",
       "      <td>3</td>\n",
       "      <td>Allen, Mr. William Henry</td>\n",
       "      <td>male</td>\n",
       "      <td>35.0</td>\n",
       "      <td>0</td>\n",
       "      <td>0</td>\n",
       "      <td>373450</td>\n",
       "      <td>8.0500</td>\n",
       "      <td>NaN</td>\n",
       "      <td>S</td>\n",
       "    </tr>\n",
       "  </tbody>\n",
       "</table>\n",
       "</div>"
      ],
      "text/plain": [
       "   PassengerId  Survived  Pclass  \\\n",
       "0            1         0       3   \n",
       "1            2         1       1   \n",
       "2            3         1       3   \n",
       "3            4         1       1   \n",
       "4            5         0       3   \n",
       "\n",
       "                                                Name     Sex   Age  SibSp  \\\n",
       "0                            Braund, Mr. Owen Harris    male  22.0      1   \n",
       "1  Cumings, Mrs. John Bradley (Florence Briggs Th...  female  38.0      1   \n",
       "2                             Heikkinen, Miss. Laina  female  26.0      0   \n",
       "3       Futrelle, Mrs. Jacques Heath (Lily May Peel)  female  35.0      1   \n",
       "4                           Allen, Mr. William Henry    male  35.0      0   \n",
       "\n",
       "   Parch            Ticket     Fare Cabin Embarked  \n",
       "0      0         A/5 21171   7.2500   NaN        S  \n",
       "1      0          PC 17599  71.2833   C85        C  \n",
       "2      0  STON/O2. 3101282   7.9250   NaN        S  \n",
       "3      0            113803  53.1000  C123        S  \n",
       "4      0            373450   8.0500   NaN        S  "
      ]
     },
     "execution_count": 3,
     "metadata": {},
     "output_type": "execute_result"
    }
   ],
   "source": [
    "# 查看数据\n",
    "df_titanic.head()"
   ]
  },
  {
   "cell_type": "code",
   "execution_count": 4,
   "id": "35e5a1db",
   "metadata": {
    "scrolled": false
   },
   "outputs": [
    {
     "name": "stdout",
     "output_type": "stream",
     "text": [
      "<class 'pandas.core.frame.DataFrame'>\n",
      "RangeIndex: 891 entries, 0 to 890\n",
      "Data columns (total 12 columns):\n",
      " #   Column       Non-Null Count  Dtype  \n",
      "---  ------       --------------  -----  \n",
      " 0   PassengerId  891 non-null    int64  \n",
      " 1   Survived     891 non-null    int64  \n",
      " 2   Pclass       891 non-null    int64  \n",
      " 3   Name         891 non-null    object \n",
      " 4   Sex          891 non-null    object \n",
      " 5   Age          714 non-null    float64\n",
      " 6   SibSp        891 non-null    int64  \n",
      " 7   Parch        891 non-null    int64  \n",
      " 8   Ticket       891 non-null    object \n",
      " 9   Fare         891 non-null    float64\n",
      " 10  Cabin        204 non-null    object \n",
      " 11  Embarked     889 non-null    object \n",
      "dtypes: float64(2), int64(5), object(5)\n",
      "memory usage: 83.7+ KB\n",
      "_ _ _ _ _ _ _ _ _ _ _ _ _ _ _ _ _ _ _ _ _ _ _ _ _ _ _ _ _ _ _ _ _ _ _ _ _ _ _ _ _ _ _ _ _ _ _ _ _ _ \n",
      "<class 'pandas.core.frame.DataFrame'>\n",
      "RangeIndex: 418 entries, 0 to 417\n",
      "Data columns (total 11 columns):\n",
      " #   Column       Non-Null Count  Dtype  \n",
      "---  ------       --------------  -----  \n",
      " 0   PassengerId  418 non-null    int64  \n",
      " 1   Pclass       418 non-null    int64  \n",
      " 2   Name         418 non-null    object \n",
      " 3   Sex          418 non-null    object \n",
      " 4   Age          332 non-null    float64\n",
      " 5   SibSp        418 non-null    int64  \n",
      " 6   Parch        418 non-null    int64  \n",
      " 7   Ticket       418 non-null    object \n",
      " 8   Fare         417 non-null    float64\n",
      " 9   Cabin        91 non-null     object \n",
      " 10  Embarked     418 non-null    object \n",
      "dtypes: float64(2), int64(4), object(5)\n",
      "memory usage: 36.0+ KB\n"
     ]
    }
   ],
   "source": [
    "# 查看所有字段信息\n",
    "df_titanic.info()\n",
    "print(\"_ \"*50)\n",
    "df_test.info()"
   ]
  },
  {
   "cell_type": "code",
   "execution_count": 5,
   "id": "9347d7bf",
   "metadata": {
    "scrolled": true
   },
   "outputs": [
    {
     "data": {
      "text/html": [
       "<div>\n",
       "<style scoped>\n",
       "    .dataframe tbody tr th:only-of-type {\n",
       "        vertical-align: middle;\n",
       "    }\n",
       "\n",
       "    .dataframe tbody tr th {\n",
       "        vertical-align: top;\n",
       "    }\n",
       "\n",
       "    .dataframe thead th {\n",
       "        text-align: right;\n",
       "    }\n",
       "</style>\n",
       "<table border=\"1\" class=\"dataframe\">\n",
       "  <thead>\n",
       "    <tr style=\"text-align: right;\">\n",
       "      <th></th>\n",
       "      <th>PassengerId</th>\n",
       "      <th>Survived</th>\n",
       "      <th>Pclass</th>\n",
       "      <th>Age</th>\n",
       "      <th>SibSp</th>\n",
       "      <th>Parch</th>\n",
       "      <th>Fare</th>\n",
       "    </tr>\n",
       "  </thead>\n",
       "  <tbody>\n",
       "    <tr>\n",
       "      <th>count</th>\n",
       "      <td>891.000000</td>\n",
       "      <td>891.000000</td>\n",
       "      <td>891.000000</td>\n",
       "      <td>714.000000</td>\n",
       "      <td>891.000000</td>\n",
       "      <td>891.000000</td>\n",
       "      <td>891.000000</td>\n",
       "    </tr>\n",
       "    <tr>\n",
       "      <th>mean</th>\n",
       "      <td>446.000000</td>\n",
       "      <td>0.383838</td>\n",
       "      <td>2.308642</td>\n",
       "      <td>29.699118</td>\n",
       "      <td>0.523008</td>\n",
       "      <td>0.381594</td>\n",
       "      <td>32.204208</td>\n",
       "    </tr>\n",
       "    <tr>\n",
       "      <th>std</th>\n",
       "      <td>257.353842</td>\n",
       "      <td>0.486592</td>\n",
       "      <td>0.836071</td>\n",
       "      <td>14.526497</td>\n",
       "      <td>1.102743</td>\n",
       "      <td>0.806057</td>\n",
       "      <td>49.693429</td>\n",
       "    </tr>\n",
       "    <tr>\n",
       "      <th>min</th>\n",
       "      <td>1.000000</td>\n",
       "      <td>0.000000</td>\n",
       "      <td>1.000000</td>\n",
       "      <td>0.420000</td>\n",
       "      <td>0.000000</td>\n",
       "      <td>0.000000</td>\n",
       "      <td>0.000000</td>\n",
       "    </tr>\n",
       "    <tr>\n",
       "      <th>25%</th>\n",
       "      <td>223.500000</td>\n",
       "      <td>0.000000</td>\n",
       "      <td>2.000000</td>\n",
       "      <td>20.125000</td>\n",
       "      <td>0.000000</td>\n",
       "      <td>0.000000</td>\n",
       "      <td>7.910400</td>\n",
       "    </tr>\n",
       "    <tr>\n",
       "      <th>50%</th>\n",
       "      <td>446.000000</td>\n",
       "      <td>0.000000</td>\n",
       "      <td>3.000000</td>\n",
       "      <td>28.000000</td>\n",
       "      <td>0.000000</td>\n",
       "      <td>0.000000</td>\n",
       "      <td>14.454200</td>\n",
       "    </tr>\n",
       "    <tr>\n",
       "      <th>75%</th>\n",
       "      <td>668.500000</td>\n",
       "      <td>1.000000</td>\n",
       "      <td>3.000000</td>\n",
       "      <td>38.000000</td>\n",
       "      <td>1.000000</td>\n",
       "      <td>0.000000</td>\n",
       "      <td>31.000000</td>\n",
       "    </tr>\n",
       "    <tr>\n",
       "      <th>max</th>\n",
       "      <td>891.000000</td>\n",
       "      <td>1.000000</td>\n",
       "      <td>3.000000</td>\n",
       "      <td>80.000000</td>\n",
       "      <td>8.000000</td>\n",
       "      <td>6.000000</td>\n",
       "      <td>512.329200</td>\n",
       "    </tr>\n",
       "  </tbody>\n",
       "</table>\n",
       "</div>"
      ],
      "text/plain": [
       "       PassengerId    Survived      Pclass         Age       SibSp  \\\n",
       "count   891.000000  891.000000  891.000000  714.000000  891.000000   \n",
       "mean    446.000000    0.383838    2.308642   29.699118    0.523008   \n",
       "std     257.353842    0.486592    0.836071   14.526497    1.102743   \n",
       "min       1.000000    0.000000    1.000000    0.420000    0.000000   \n",
       "25%     223.500000    0.000000    2.000000   20.125000    0.000000   \n",
       "50%     446.000000    0.000000    3.000000   28.000000    0.000000   \n",
       "75%     668.500000    1.000000    3.000000   38.000000    1.000000   \n",
       "max     891.000000    1.000000    3.000000   80.000000    8.000000   \n",
       "\n",
       "            Parch        Fare  \n",
       "count  891.000000  891.000000  \n",
       "mean     0.381594   32.204208  \n",
       "std      0.806057   49.693429  \n",
       "min      0.000000    0.000000  \n",
       "25%      0.000000    7.910400  \n",
       "50%      0.000000   14.454200  \n",
       "75%      0.000000   31.000000  \n",
       "max      6.000000  512.329200  "
      ]
     },
     "execution_count": 5,
     "metadata": {},
     "output_type": "execute_result"
    }
   ],
   "source": [
    "# 查看数据概要\n",
    "df_titanic.describe()"
   ]
  },
  {
   "cell_type": "code",
   "execution_count": 6,
   "id": "93d67bef",
   "metadata": {},
   "outputs": [
    {
     "data": {
      "text/html": [
       "<div>\n",
       "<style scoped>\n",
       "    .dataframe tbody tr th:only-of-type {\n",
       "        vertical-align: middle;\n",
       "    }\n",
       "\n",
       "    .dataframe tbody tr th {\n",
       "        vertical-align: top;\n",
       "    }\n",
       "\n",
       "    .dataframe thead th {\n",
       "        text-align: right;\n",
       "    }\n",
       "</style>\n",
       "<table border=\"1\" class=\"dataframe\">\n",
       "  <thead>\n",
       "    <tr style=\"text-align: right;\">\n",
       "      <th></th>\n",
       "      <th>Name</th>\n",
       "      <th>Sex</th>\n",
       "      <th>Ticket</th>\n",
       "      <th>Cabin</th>\n",
       "      <th>Embarked</th>\n",
       "    </tr>\n",
       "  </thead>\n",
       "  <tbody>\n",
       "    <tr>\n",
       "      <th>count</th>\n",
       "      <td>891</td>\n",
       "      <td>891</td>\n",
       "      <td>891</td>\n",
       "      <td>204</td>\n",
       "      <td>889</td>\n",
       "    </tr>\n",
       "    <tr>\n",
       "      <th>unique</th>\n",
       "      <td>891</td>\n",
       "      <td>2</td>\n",
       "      <td>681</td>\n",
       "      <td>147</td>\n",
       "      <td>3</td>\n",
       "    </tr>\n",
       "    <tr>\n",
       "      <th>top</th>\n",
       "      <td>Homer, Mr. Harry (\"Mr E Haven\")</td>\n",
       "      <td>male</td>\n",
       "      <td>CA. 2343</td>\n",
       "      <td>G6</td>\n",
       "      <td>S</td>\n",
       "    </tr>\n",
       "    <tr>\n",
       "      <th>freq</th>\n",
       "      <td>1</td>\n",
       "      <td>577</td>\n",
       "      <td>7</td>\n",
       "      <td>4</td>\n",
       "      <td>644</td>\n",
       "    </tr>\n",
       "  </tbody>\n",
       "</table>\n",
       "</div>"
      ],
      "text/plain": [
       "                                   Name   Sex    Ticket Cabin Embarked\n",
       "count                               891   891       891   204      889\n",
       "unique                              891     2       681   147        3\n",
       "top     Homer, Mr. Harry (\"Mr E Haven\")  male  CA. 2343    G6        S\n",
       "freq                                  1   577         7     4      644"
      ]
     },
     "execution_count": 6,
     "metadata": {},
     "output_type": "execute_result"
    }
   ],
   "source": [
    "# 查看非数值型特征概要\n",
    "df_titanic.describe(include=[\"O\"])"
   ]
  },
  {
   "cell_type": "code",
   "execution_count": 7,
   "id": "23ca4250",
   "metadata": {},
   "outputs": [
    {
     "data": {
      "text/plain": [
       "PassengerId      0\n",
       "Survived         0\n",
       "Pclass           0\n",
       "Name             0\n",
       "Sex              0\n",
       "Age            177\n",
       "SibSp            0\n",
       "Parch            0\n",
       "Ticket           0\n",
       "Fare             0\n",
       "Cabin          687\n",
       "Embarked         2\n",
       "dtype: int64"
      ]
     },
     "execution_count": 7,
     "metadata": {},
     "output_type": "execute_result"
    }
   ],
   "source": [
    "# 查看每个字段分别有多少个空值\n",
    "df_titanic.isna().sum()"
   ]
  },
  {
   "cell_type": "code",
   "execution_count": 8,
   "id": "a36eddec",
   "metadata": {
    "scrolled": true
   },
   "outputs": [
    {
     "data": {
      "text/plain": [
       "<AxesSubplot:>"
      ]
     },
     "execution_count": 8,
     "metadata": {},
     "output_type": "execute_result"
    },
    {
     "data": {
      "image/png": "[encoded data removed]",
      "text/plain": [
       "<Figure size 1800x720 with 2 Axes>"
      ]
     },
     "metadata": {
      "needs_background": "light"
     },
     "output_type": "display_data"
    }
   ],
   "source": [
    "# 图形化查看空值分布\n",
    "import missingno as msno\n",
    "msno.matrix(df_titanic)\n"
   ]
  },
  {
   "cell_type": "markdown",
   "id": "9addfd75",
   "metadata": {},
   "source": [
    "#### 数据表简要分析\n",
    "\n",
    "- 关于空值\n",
    "    - Cabin列太多空值了，要是全部按行删除那基本上不用分析了，所以Cabin列可以直接忽略(删除)。\n",
    "    - Age列有177个空值，不算很多，我们用均值标准差的差到两者之间的和作随机数填补空值。\n",
    "    - Embarked列有2个空值，这是一个类型列，而且空值数量不多，所以我们用最常出现的类型填补这两个空值。\n",
    "- 关于类型\n",
    "    - Ticket列一共有891行，但只有681个唯一值，那么可以说明最起码有105个人(最起码两人共用一个船票信息?)不是独立乘船的。\n",
    "    - 男女分别占比64%、36%（577名男性和314名女性）\n",
    "    - 估计PassengerId和Name和Ticket字段对目标(Survived)没什么贡献。"
   ]
  },
  {
   "cell_type": "markdown",
   "id": "87800858",
   "metadata": {},
   "source": [
    "### 基本统计"
   ]
  },
  {
   "cell_type": "code",
   "execution_count": 9,
   "id": "7ea4dca6",
   "metadata": {},
   "outputs": [
    {
     "data": {
      "text/html": [
       "<div>\n",
       "<style scoped>\n",
       "    .dataframe tbody tr th:only-of-type {\n",
       "        vertical-align: middle;\n",
       "    }\n",
       "\n",
       "    .dataframe tbody tr th {\n",
       "        vertical-align: top;\n",
       "    }\n",
       "\n",
       "    .dataframe thead th {\n",
       "        text-align: right;\n",
       "    }\n",
       "</style>\n",
       "<table border=\"1\" class=\"dataframe\">\n",
       "  <thead>\n",
       "    <tr style=\"text-align: right;\">\n",
       "      <th></th>\n",
       "      <th>Pclass</th>\n",
       "      <th>Survived</th>\n",
       "    </tr>\n",
       "  </thead>\n",
       "  <tbody>\n",
       "    <tr>\n",
       "      <th>0</th>\n",
       "      <td>1</td>\n",
       "      <td>0.629630</td>\n",
       "    </tr>\n",
       "    <tr>\n",
       "      <th>1</th>\n",
       "      <td>2</td>\n",
       "      <td>0.472826</td>\n",
       "    </tr>\n",
       "    <tr>\n",
       "      <th>2</th>\n",
       "      <td>3</td>\n",
       "      <td>0.242363</td>\n",
       "    </tr>\n",
       "  </tbody>\n",
       "</table>\n",
       "</div>"
      ],
      "text/plain": [
       "   Pclass  Survived\n",
       "0       1  0.629630\n",
       "1       2  0.472826\n",
       "2       3  0.242363"
      ]
     },
     "execution_count": 9,
     "metadata": {},
     "output_type": "execute_result"
    }
   ],
   "source": [
    "df_titanic[[\"Survived\", \"Pclass\"]].groupby(\"Pclass\", as_index=False).mean().sort_values(\"Pclass\", ascending=True)"
   ]
  },
  {
   "cell_type": "code",
   "execution_count": 10,
   "id": "24ef153c",
   "metadata": {},
   "outputs": [
    {
     "data": {
      "text/html": [
       "<div>\n",
       "<style scoped>\n",
       "    .dataframe tbody tr th:only-of-type {\n",
       "        vertical-align: middle;\n",
       "    }\n",
       "\n",
       "    .dataframe tbody tr th {\n",
       "        vertical-align: top;\n",
       "    }\n",
       "\n",
       "    .dataframe thead th {\n",
       "        text-align: right;\n",
       "    }\n",
       "</style>\n",
       "<table border=\"1\" class=\"dataframe\">\n",
       "  <thead>\n",
       "    <tr style=\"text-align: right;\">\n",
       "      <th></th>\n",
       "      <th>Sex</th>\n",
       "      <th>Survived</th>\n",
       "    </tr>\n",
       "  </thead>\n",
       "  <tbody>\n",
       "    <tr>\n",
       "      <th>0</th>\n",
       "      <td>female</td>\n",
       "      <td>0.742038</td>\n",
       "    </tr>\n",
       "    <tr>\n",
       "      <th>1</th>\n",
       "      <td>male</td>\n",
       "      <td>0.188908</td>\n",
       "    </tr>\n",
       "  </tbody>\n",
       "</table>\n",
       "</div>"
      ],
      "text/plain": [
       "      Sex  Survived\n",
       "0  female  0.742038\n",
       "1    male  0.188908"
      ]
     },
     "execution_count": 10,
     "metadata": {},
     "output_type": "execute_result"
    }
   ],
   "source": [
    "df_titanic[[\"Survived\", \"Sex\"]].groupby(\"Sex\", as_index=False).mean()"
   ]
  },
  {
   "cell_type": "code",
   "execution_count": 11,
   "id": "5ef418b0",
   "metadata": {},
   "outputs": [
    {
     "data": {
      "text/html": [
       "<div>\n",
       "<style scoped>\n",
       "    .dataframe tbody tr th:only-of-type {\n",
       "        vertical-align: middle;\n",
       "    }\n",
       "\n",
       "    .dataframe tbody tr th {\n",
       "        vertical-align: top;\n",
       "    }\n",
       "\n",
       "    .dataframe thead th {\n",
       "        text-align: right;\n",
       "    }\n",
       "</style>\n",
       "<table border=\"1\" class=\"dataframe\">\n",
       "  <thead>\n",
       "    <tr style=\"text-align: right;\">\n",
       "      <th></th>\n",
       "      <th>Embarked</th>\n",
       "      <th>Survived</th>\n",
       "    </tr>\n",
       "  </thead>\n",
       "  <tbody>\n",
       "    <tr>\n",
       "      <th>0</th>\n",
       "      <td>C</td>\n",
       "      <td>0.553571</td>\n",
       "    </tr>\n",
       "    <tr>\n",
       "      <th>1</th>\n",
       "      <td>Q</td>\n",
       "      <td>0.389610</td>\n",
       "    </tr>\n",
       "    <tr>\n",
       "      <th>2</th>\n",
       "      <td>S</td>\n",
       "      <td>0.336957</td>\n",
       "    </tr>\n",
       "  </tbody>\n",
       "</table>\n",
       "</div>"
      ],
      "text/plain": [
       "  Embarked  Survived\n",
       "0        C  0.553571\n",
       "1        Q  0.389610\n",
       "2        S  0.336957"
      ]
     },
     "execution_count": 11,
     "metadata": {},
     "output_type": "execute_result"
    }
   ],
   "source": [
    "df_titanic[[\"Survived\", \"Embarked\"]].groupby(\"Embarked\", as_index=False).mean()"
   ]
  },
  {
   "cell_type": "code",
   "execution_count": 12,
   "id": "7a336275",
   "metadata": {},
   "outputs": [
    {
     "data": {
      "text/html": [
       "<div>\n",
       "<style scoped>\n",
       "    .dataframe tbody tr th:only-of-type {\n",
       "        vertical-align: middle;\n",
       "    }\n",
       "\n",
       "    .dataframe tbody tr th {\n",
       "        vertical-align: top;\n",
       "    }\n",
       "\n",
       "    .dataframe thead th {\n",
       "        text-align: right;\n",
       "    }\n",
       "</style>\n",
       "<table border=\"1\" class=\"dataframe\">\n",
       "  <thead>\n",
       "    <tr style=\"text-align: right;\">\n",
       "      <th></th>\n",
       "      <th>Parch</th>\n",
       "      <th>Survived</th>\n",
       "    </tr>\n",
       "  </thead>\n",
       "  <tbody>\n",
       "    <tr>\n",
       "      <th>3</th>\n",
       "      <td>3</td>\n",
       "      <td>0.600000</td>\n",
       "    </tr>\n",
       "    <tr>\n",
       "      <th>1</th>\n",
       "      <td>1</td>\n",
       "      <td>0.550847</td>\n",
       "    </tr>\n",
       "    <tr>\n",
       "      <th>2</th>\n",
       "      <td>2</td>\n",
       "      <td>0.500000</td>\n",
       "    </tr>\n",
       "    <tr>\n",
       "      <th>0</th>\n",
       "      <td>0</td>\n",
       "      <td>0.343658</td>\n",
       "    </tr>\n",
       "    <tr>\n",
       "      <th>5</th>\n",
       "      <td>5</td>\n",
       "      <td>0.200000</td>\n",
       "    </tr>\n",
       "    <tr>\n",
       "      <th>4</th>\n",
       "      <td>4</td>\n",
       "      <td>0.000000</td>\n",
       "    </tr>\n",
       "    <tr>\n",
       "      <th>6</th>\n",
       "      <td>6</td>\n",
       "      <td>0.000000</td>\n",
       "    </tr>\n",
       "  </tbody>\n",
       "</table>\n",
       "</div>"
      ],
      "text/plain": [
       "   Parch  Survived\n",
       "3      3  0.600000\n",
       "1      1  0.550847\n",
       "2      2  0.500000\n",
       "0      0  0.343658\n",
       "5      5  0.200000\n",
       "4      4  0.000000\n",
       "6      6  0.000000"
      ]
     },
     "execution_count": 12,
     "metadata": {},
     "output_type": "execute_result"
    }
   ],
   "source": [
    "df_titanic[[\"Survived\", \"Parch\"]].groupby(\"Parch\", as_index=False).mean().sort_values(\"Survived\", ascending=False)"
   ]
  },
  {
   "cell_type": "code",
   "execution_count": 13,
   "id": "9ed5c522",
   "metadata": {},
   "outputs": [
    {
     "data": {
      "text/html": [
       "<div>\n",
       "<style scoped>\n",
       "    .dataframe tbody tr th:only-of-type {\n",
       "        vertical-align: middle;\n",
       "    }\n",
       "\n",
       "    .dataframe tbody tr th {\n",
       "        vertical-align: top;\n",
       "    }\n",
       "\n",
       "    .dataframe thead th {\n",
       "        text-align: right;\n",
       "    }\n",
       "</style>\n",
       "<table border=\"1\" class=\"dataframe\">\n",
       "  <thead>\n",
       "    <tr style=\"text-align: right;\">\n",
       "      <th></th>\n",
       "      <th>SibSp</th>\n",
       "      <th>Survived</th>\n",
       "    </tr>\n",
       "  </thead>\n",
       "  <tbody>\n",
       "    <tr>\n",
       "      <th>1</th>\n",
       "      <td>1</td>\n",
       "      <td>0.535885</td>\n",
       "    </tr>\n",
       "    <tr>\n",
       "      <th>2</th>\n",
       "      <td>2</td>\n",
       "      <td>0.464286</td>\n",
       "    </tr>\n",
       "    <tr>\n",
       "      <th>0</th>\n",
       "      <td>0</td>\n",
       "      <td>0.345395</td>\n",
       "    </tr>\n",
       "    <tr>\n",
       "      <th>3</th>\n",
       "      <td>3</td>\n",
       "      <td>0.250000</td>\n",
       "    </tr>\n",
       "    <tr>\n",
       "      <th>4</th>\n",
       "      <td>4</td>\n",
       "      <td>0.166667</td>\n",
       "    </tr>\n",
       "    <tr>\n",
       "      <th>5</th>\n",
       "      <td>5</td>\n",
       "      <td>0.000000</td>\n",
       "    </tr>\n",
       "    <tr>\n",
       "      <th>6</th>\n",
       "      <td>8</td>\n",
       "      <td>0.000000</td>\n",
       "    </tr>\n",
       "  </tbody>\n",
       "</table>\n",
       "</div>"
      ],
      "text/plain": [
       "   SibSp  Survived\n",
       "1      1  0.535885\n",
       "2      2  0.464286\n",
       "0      0  0.345395\n",
       "3      3  0.250000\n",
       "4      4  0.166667\n",
       "5      5  0.000000\n",
       "6      8  0.000000"
      ]
     },
     "execution_count": 13,
     "metadata": {},
     "output_type": "execute_result"
    }
   ],
   "source": [
    "df_titanic[[\"Survived\", \"SibSp\"]].groupby(\"SibSp\", as_index=False).mean().sort_values(\"Survived\", ascending=False)"
   ]
  },
  {
   "cell_type": "markdown",
   "id": "87470d8a",
   "metadata": {},
   "source": [
    "#### 基本统计解析和猜测\n",
    "- 船舱等级为1的乘客幸存率最高，达到了64%，所以Pclass与幸存率有关？\n",
    "- 女性比男性幸存率高好几倍，这是电视中的小孩妇人优先？\n",
    "- 登船码头(Embarked)为C的幸存率最高，但是从S登船的旅客最多，或许不同登船码头决定了逃生的便捷性？比如C登船的旅客离救生艇更近？\n",
    "- 有3个直系亲属的生存率最高，有1个兄弟姐妹的生存率也最高，单身寡佬只有34%左右生存率，或许家人与逃生欲望有关系？\n"
   ]
  },
  {
   "cell_type": "markdown",
   "id": "3ed0e96e",
   "metadata": {},
   "source": [
    "### 数据图形化"
   ]
  },
  {
   "cell_type": "code",
   "execution_count": 14,
   "id": "02a23b5b",
   "metadata": {
    "scrolled": true
   },
   "outputs": [
    {
     "data": {
      "text/plain": [
       "<matplotlib.legend.Legend at 0x7fc34993ae20>"
      ]
     },
     "execution_count": 14,
     "metadata": {},
     "output_type": "execute_result"
    },
    {
     "data": {
      "image/png": "[encoded data removed]",
      "text/plain": [
       "<Figure size 432x288 with 1 Axes>"
      ]
     },
     "metadata": {
      "needs_background": "light"
     },
     "output_type": "display_data"
    }
   ],
   "source": [
    "df_titanic[df_titanic[\"Survived\"] == 1][\"Age\"].plot(kind=\"hist\",label=\"Survived\", bins=20, xlabel=\"AAA\")\n",
    "df_titanic[df_titanic[\"Survived\"] == 0][\"Age\"].plot(kind=\"hist\", alpha=0.5, label=\"Not Survived\", bins=20)\n",
    "plt.legend()"
   ]
  },
  {
   "cell_type": "markdown",
   "id": "cd055627",
   "metadata": {},
   "source": [
    "- 年龄小(小于4岁左右?)和最大年龄段的存活率比其他人要高，尊老爱幼实锤了。"
   ]
  },
  {
   "cell_type": "code",
   "execution_count": 15,
   "id": "96892692",
   "metadata": {},
   "outputs": [
    {
     "data": {
      "text/plain": [
       "<matplotlib.legend.Legend at 0x7fc32d705580>"
      ]
     },
     "execution_count": 15,
     "metadata": {},
     "output_type": "execute_result"
    },
    {
     "data": {
      "image/png": "[encoded data removed]",
      "text/plain": [
       "<Figure size 432x288 with 1 Axes>"
      ]
     },
     "metadata": {
      "needs_background": "light"
     },
     "output_type": "display_data"
    }
   ],
   "source": [
    "df_titanic[df_titanic['Survived'] == 1][\"Fare\"].plot(kind='hist', label=\"Survived\", bins=20)\n",
    "df_titanic[df_titanic['Survived'] == 0][\"Fare\"].plot(kind='hist',label=\"Not Survived\", alpha=0.5, bins=20)\n",
    "plt.legend()"
   ]
  },
  {
   "cell_type": "markdown",
   "id": "9ab944bb",
   "metadata": {},
   "source": [
    "- 存活率跟票价没啥关系"
   ]
  },
  {
   "cell_type": "code",
   "execution_count": 16,
   "id": "e0a6bdcf",
   "metadata": {
    "scrolled": true
   },
   "outputs": [
    {
     "data": {
      "text/plain": [
       "<seaborn.axisgrid.FacetGrid at 0x7fc32d86aa90>"
      ]
     },
     "execution_count": 16,
     "metadata": {},
     "output_type": "execute_result"
    },
    {
     "data": {
      "image/png": "[encoded data removed]",
      "text/plain": [
       "<Figure size 972x432 with 6 Axes>"
      ]
     },
     "metadata": {
      "needs_background": "light"
     },
     "output_type": "display_data"
    }
   ],
   "source": [
    "gird = sns.FacetGrid(df_titanic, col='Embarked', row='Survived', aspect=1.5)\n",
    "gird.map(plt.hist, \"Age\")"
   ]
  },
  {
   "cell_type": "markdown",
   "id": "6f333a07",
   "metadata": {},
   "source": [
    "- 在码头S登船的人最多，所以样本分布最广，在Q码头登船的人最少，样本分布最低。"
   ]
  },
  {
   "cell_type": "code",
   "execution_count": 17,
   "id": "48dcd441",
   "metadata": {},
   "outputs": [
    {
     "data": {
      "image/png": "[encoded data removed]",
      "text/plain": [
       "<Figure size 980x432 with 6 Axes>"
      ]
     },
     "metadata": {
      "needs_background": "light"
     },
     "output_type": "display_data"
    }
   ],
   "source": [
    "pclass_gird = sns.FacetGrid(df_titanic, col='Pclass', row='Survived', aspect=1.5)\n",
    "pclass_gird.map(plt.hist, \"Age\", bins=20)\n",
    "pclass_gird.add_legend();"
   ]
  },
  {
   "cell_type": "markdown",
   "id": "8e63e539",
   "metadata": {},
   "source": [
    "- 在第三船舱的年轻人死亡率最高，第一船舱青年人生存率最高，可以认定所在船舱对生存率有关系。"
   ]
  },
  {
   "cell_type": "code",
   "execution_count": 18,
   "id": "f81e7efb",
   "metadata": {},
   "outputs": [
    {
     "data": {
      "image/png": "[encoded data removed]",
      "text/plain": [
       "<Figure size 432x288 with 1 Axes>"
      ]
     },
     "metadata": {
      "needs_background": "light"
     },
     "output_type": "display_data"
    }
   ],
   "source": [
    "sns.barplot(data=df_titanic,x=\"Sex\", y=\"Survived\",ci=None);"
   ]
  },
  {
   "cell_type": "markdown",
   "id": "ddc96f80",
   "metadata": {},
   "source": [
    "- 女性比男性生存率高很多。"
   ]
  },
  {
   "cell_type": "code",
   "execution_count": 19,
   "id": "56070c0e",
   "metadata": {},
   "outputs": [
    {
     "data": {
      "text/plain": [
       "<seaborn.axisgrid.FacetGrid at 0x7fc32ecdf3a0>"
      ]
     },
     "execution_count": 19,
     "metadata": {},
     "output_type": "execute_result"
    },
    {
     "data": {
      "image/png": "[encoded data removed]",
      "text/plain": [
       "<Figure size 440x216 with 2 Axes>"
      ]
     },
     "metadata": {
      "needs_background": "light"
     },
     "output_type": "display_data"
    }
   ],
   "source": [
    "fare_grid = sns.FacetGrid(df_titanic, col=\"Survived\")\n",
    "fare_grid.map(plt.hist, \"Fare\")\n",
    "fare_grid.add_legend()"
   ]
  },
  {
   "cell_type": "markdown",
   "id": "d426736a",
   "metadata": {},
   "source": [
    "- 多数人买的都是低价票，而且没啥存活率关系。"
   ]
  },
  {
   "cell_type": "markdown",
   "id": "d95a6765",
   "metadata": {},
   "source": [
    "### 代码部分"
   ]
  },
  {
   "cell_type": "code",
   "execution_count": 20,
   "id": "549636b1",
   "metadata": {},
   "outputs": [],
   "source": [
    "# 将‘类型’特征转化为数值，便于网络读取\n",
    "def trans_category(dataset, category, *, mapper={}, inplace=False):\n",
    "    # 断言有这么个字段\n",
    "    assert category in dataset.columns, f\"Dataset's column: [{dataset.columns}] exclude [{category}]\"\n",
    "    # 允许自定义数值\n",
    "    if any(mapper):\n",
    "        dataset[category] = dataset[category].map(mapper)\n",
    "    else:\n",
    "        # factorize方法返回(对应数值，类型)，用唯一数值对应唯一类型，将类型转换成数值，并且数值不取0。\n",
    "        index, fac = dataset[category].factorize()\n",
    "        index_unqiue = np.unique(index) + 1\n",
    "        fac_unique = np.unique(fac)\n",
    "        fac_mapper = dict(zip(fac_unique, index_unqiue))\n",
    "        if inplace:\n",
    "            dataset[category] = dataset[category].map(fac_mapper)\n",
    "        else:\n",
    "            return dataset[category].map(fac_mapper)"
   ]
  },
  {
   "cell_type": "code",
   "execution_count": 21,
   "id": "96e4e929",
   "metadata": {},
   "outputs": [],
   "source": [
    "# 将离散类型转化为范围，例如将年龄转化为(0-10]，(10-20]等\n",
    "def trans_continue(dataset, continue_feature, /, bins=5, *, inplace=False):\n",
    "    # 断言字段在数据表中\n",
    "    assert continue_feature in dataset.columns,  f\"Dataset's column: [{dataset.columns}] exclude [{category}]\"\n",
    "    # 确定类型为离散值\n",
    "    continue_dtype = dataset[continue_feature].dtype\n",
    "    dtypes = [continue_dtype == int, continue_dtype==float]\n",
    "    assert any(dtypes), f\"Column [{continue_feature}] is not continue feature!\"\n",
    "    \n",
    "    # 建立范围\n",
    "    bound_feature = \"\".join([continue_feature, \"Bound\"])\n",
    "    dataset[bound_feature] = pd.cut(dataset[continue_feature], bins=bins)\n",
    "    \n",
    "    fac, _ = dataset[bound_feature].factorize()\n",
    "#     dataset[continue_feature] = fac\n",
    "    if inplace:\n",
    "        dataset[continue_feature] = fac + 1\n",
    "    else:\n",
    "        return fac"
   ]
  },
  {
   "cell_type": "code",
   "execution_count": 22,
   "id": "9c00739d",
   "metadata": {},
   "outputs": [],
   "source": [
    "# 填充age字段的空值\n",
    "def fill_age(dataset, *, inplace=False):\n",
    "    _mean = dataset[\"Age\"].mean()\n",
    "    _std = dataset[\"Age\"].std()\n",
    "    _fill = np.random.randint(_mean - _std, _mean + _std, dataset[\"Age\"].isna().sum())\n",
    "    if inplace:\n",
    "        dataset.loc[dataset[\"Age\"].isna(), \"Age\"] = _fill\n",
    "    else:\n",
    "        return _fill"
   ]
  },
  {
   "cell_type": "code",
   "execution_count": 23,
   "id": "d8f2bb6d",
   "metadata": {},
   "outputs": [],
   "source": [
    "# 根据频率填充‘类型’特征的空值\n",
    "def fill_by_freq(dataset, feature, *, inplace=False):\n",
    "    assert feature in dataset.columns, f\"Feature [{feature}] excluded in {dataset.columns}\"\n",
    "    mode = dataset[feature].mode()[0]\n",
    "    if inplace:\n",
    "        dataset[feature] = dataset[feature].fillna(mode)\n",
    "    else:\n",
    "        return mode"
   ]
  },
  {
   "cell_type": "code",
   "execution_count": 24,
   "id": "db01ff4a",
   "metadata": {},
   "outputs": [],
   "source": [
    "# 将所有名字根据Miss, Mrs, Dr等划分特征\n",
    "def combine_name(dataset, *, inplace=False):\n",
    "    dataset[\"Title\"] = dataset.Name.str.extract(\"([A-Za-z]+)\\.\")\n",
    "    syn_calls = {\"Mlle\":\"Miss\", \"Mme\":\"Mrs\", \"Ms\":\"Miss\"}\n",
    "    dataset[\"Title\"] = dataset.Title.replace(syn_calls)\n",
    "    title_counts = dataset.Title.value_counts()\n",
    "    # 所有出现频率小于40的值统一设置为指定值，默认Other\n",
    "    uncommon = title_counts[title_counts<40].index\n",
    "    if inplace:\n",
    "        dataset[\"Title\"] = dataset.Title.replace(uncommon,\"Other\")\n",
    "    else: return uncommon"
   ]
  },
  {
   "cell_type": "code",
   "execution_count": 25,
   "id": "eb905371",
   "metadata": {},
   "outputs": [],
   "source": [
    "# 确定某位乘客是否单身，并且将结果写进IsAlone列\n",
    "def make_isalone(dataset, *, inplace=False):\n",
    "    columns = dataset.columns\n",
    "    act = [\"Parch\" in columns, \"SibSp\" in columns]\n",
    "    assert all(act), \"Parch or SliSp exclued in columns\"\n",
    "    family_size = dataset[\"Parch\"] + dataset[\"SibSp\"] + 1\n",
    "    family_size = family_size.map(lambda x:0 if x>1 else 1)\n",
    "    if inplace:\n",
    "        dataset[\"IsAlone\"] = family_size\n",
    "    else:\n",
    "        return family_size"
   ]
  },
  {
   "cell_type": "code",
   "execution_count": 26,
   "id": "64a1a602",
   "metadata": {},
   "outputs": [],
   "source": [
    "# 将集合合并\n",
    "combine = [df_titanic, df_test]"
   ]
  },
  {
   "cell_type": "code",
   "execution_count": 27,
   "id": "6becf0c3",
   "metadata": {},
   "outputs": [],
   "source": [
    "# 对测试集和测试集应用所有相同变换\n",
    "for dataset in combine:\n",
    "    fill_by_freq(dataset, \"Embarked\", inplace=True)\n",
    "    fill_age(dataset, inplace=True)\n",
    "    \n",
    "    combine_name(dataset,inplace=True)\n",
    "    trans_category(dataset, \"Title\", inplace=True)\n",
    "    trans_category(dataset, \"Sex\", inplace=True)\n",
    "    trans_category(dataset, \"Embarked\", inplace=True)\n",
    "    \n",
    "    trans_continue(dataset, \"Age\", inplace=True)\n",
    "    trans_continue(dataset, \"Fare\", inplace=True)\n",
    "    \n",
    "    make_isalone(dataset,inplace=True)"
   ]
  },
  {
   "cell_type": "code",
   "execution_count": 28,
   "id": "3e3a0555",
   "metadata": {
    "scrolled": true
   },
   "outputs": [
    {
     "name": "stdout",
     "output_type": "stream",
     "text": [
      "<class 'pandas.core.frame.DataFrame'>\n",
      "RangeIndex: 891 entries, 0 to 890\n",
      "Data columns (total 16 columns):\n",
      " #   Column       Non-Null Count  Dtype   \n",
      "---  ------       --------------  -----   \n",
      " 0   PassengerId  891 non-null    int64   \n",
      " 1   Survived     891 non-null    int64   \n",
      " 2   Pclass       891 non-null    int64   \n",
      " 3   Name         891 non-null    object  \n",
      " 4   Sex          891 non-null    int64   \n",
      " 5   Age          891 non-null    int64   \n",
      " 6   SibSp        891 non-null    int64   \n",
      " 7   Parch        891 non-null    int64   \n",
      " 8   Ticket       891 non-null    object  \n",
      " 9   Fare         891 non-null    int64   \n",
      " 10  Cabin        204 non-null    object  \n",
      " 11  Embarked     891 non-null    int64   \n",
      " 12  Title        891 non-null    int64   \n",
      " 13  AgeBound     891 non-null    category\n",
      " 14  FareBound    891 non-null    category\n",
      " 15  IsAlone      891 non-null    int64   \n",
      "dtypes: category(2), int64(11), object(3)\n",
      "memory usage: 100.1+ KB\n",
      " _ _ _ _ _ _ _ _ _ _ _ _ _ _ _ _ _ _ _ _ _ _ _ _ _ _ _ _ _ _ _ _ _ _ _ _ _ _ _ _\n",
      "<class 'pandas.core.frame.DataFrame'>\n",
      "RangeIndex: 418 entries, 0 to 417\n",
      "Data columns (total 15 columns):\n",
      " #   Column       Non-Null Count  Dtype   \n",
      "---  ------       --------------  -----   \n",
      " 0   PassengerId  418 non-null    int64   \n",
      " 1   Pclass       418 non-null    int64   \n",
      " 2   Name         418 non-null    object  \n",
      " 3   Sex          418 non-null    int64   \n",
      " 4   Age          418 non-null    int64   \n",
      " 5   SibSp        418 non-null    int64   \n",
      " 6   Parch        418 non-null    int64   \n",
      " 7   Ticket       418 non-null    object  \n",
      " 8   Fare         418 non-null    int64   \n",
      " 9   Cabin        91 non-null     object  \n",
      " 10  Embarked     418 non-null    int64   \n",
      " 11  Title        418 non-null    int64   \n",
      " 12  AgeBound     418 non-null    category\n",
      " 13  FareBound    417 non-null    category\n",
      " 14  IsAlone      418 non-null    int64   \n",
      "dtypes: category(2), int64(10), object(3)\n",
      "memory usage: 44.2+ KB\n"
     ]
    }
   ],
   "source": [
    "# 查看变换结果\n",
    "df_titanic.info()\n",
    "print(\" _\" * 40)\n",
    "df_test.info()"
   ]
  },
  {
   "cell_type": "markdown",
   "id": "4e233ebf",
   "metadata": {},
   "source": [
    "- 变换完毕以后，\"PassengerId\", \"Cabin\", \"SibSp\", \"Parch\", \"Ticket\", \"Name\", \"AgeBound\", \"FareBound\" 这些字段将不参与网络计算，由\n",
    "变换完毕后的字段参与。"
   ]
  },
  {
   "cell_type": "code",
   "execution_count": 29,
   "id": "68e4c4fb",
   "metadata": {},
   "outputs": [],
   "source": [
    "# 删除无用列\n",
    "be_dropped_columns = [\"PassengerId\", \"Cabin\", \"SibSp\", \"Parch\", \"Ticket\", \"Name\", \"AgeBound\", \"FareBound\"]\n",
    "df_train = df_titanic.drop(columns=be_dropped_columns, axis=1)"
   ]
  },
  {
   "cell_type": "code",
   "execution_count": 30,
   "id": "6342df58",
   "metadata": {},
   "outputs": [],
   "source": [
    "# 建立label和train set\n",
    "y_train = df_train.pop(\"Survived\")\n",
    "x_train = df_train.to_numpy()\n",
    "\n",
    "x_test = df_test.drop(be_dropped_columns, axis=1).to_numpy()"
   ]
  },
  {
   "cell_type": "code",
   "execution_count": 31,
   "id": "347f2f31",
   "metadata": {},
   "outputs": [],
   "source": [
    "# 将所有值改为float32，方便Dense层计算\n",
    "x_train, y_train = x_train.astype(\"float32\"), y_train.astype(\"float32\")\n",
    "x_test = x_test.astype(\"float32\")"
   ]
  },
  {
   "cell_type": "code",
   "execution_count": 32,
   "id": "afbaaaed",
   "metadata": {},
   "outputs": [],
   "source": [
    "# 统计互信息\n",
    "mi = mutual_info_classif(x_train, y_train)"
   ]
  },
  {
   "cell_type": "code",
   "execution_count": 33,
   "id": "38890354",
   "metadata": {},
   "outputs": [
    {
     "data": {
      "text/plain": [
       "Title       0.168880\n",
       "Sex         0.143315\n",
       "Embarked    0.063676\n",
       "dtype: float64"
      ]
     },
     "execution_count": 33,
     "metadata": {},
     "output_type": "execute_result"
    }
   ],
   "source": [
    "pd.Series(mi, index=df_train.columns).sort_values(ascending=False)[:3]"
   ]
  },
  {
   "cell_type": "markdown",
   "id": "f804be0f",
   "metadata": {},
   "source": [
    "> 互信息能表达特征与目标之间的线性和非线形关系\n",
    "- 可以看出Title字段与目标关联最大，性别其次。"
   ]
  },
  {
   "cell_type": "markdown",
   "id": "354a1849",
   "metadata": {},
   "source": [
    "### 模型部分"
   ]
  },
  {
   "cell_type": "code",
   "execution_count": 34,
   "id": "e1240faa",
   "metadata": {},
   "outputs": [],
   "source": [
    "# 新建模型，采用2个隐藏层的架构\n",
    "model = Sequential()\n",
    "model.add(layers.Dense(128, input_shape=(x_train.shape[-1],)))\n",
    "model.add(LeakyReLU(alpha=0.01))\n",
    "\n",
    "model.add(layers.Dense(128))\n",
    "model.add(LeakyReLU(alpha=0.01))\n",
    "\n",
    "# model.add(layers.Dense(256))\n",
    "# model.add(LeakyReLU(alpha=0.01))\n",
    "\n",
    "model.add(layers.Dense(1, activation=\"sigmoid\"))\n",
    "\n",
    "model.compile(loss=\"binary_crossentropy\", optimizer=\"adam\", metrics=[\"accuracy\"])"
   ]
  },
  {
   "cell_type": "code",
   "execution_count": 35,
   "id": "a4717143",
   "metadata": {},
   "outputs": [],
   "source": [
    "history = model.fit(x_train, y_train, epochs=400, validation_split=0.2, batch_size=128, verbose=0, shuffle=True)"
   ]
  },
  {
   "cell_type": "code",
   "execution_count": 36,
   "id": "8f71cb15",
   "metadata": {},
   "outputs": [
    {
     "name": "stdout",
     "output_type": "stream",
     "text": [
      "Mean Val Accuracy: 0.8413268135488033\n",
      "Mean Accuracy: 0.8271910059452057\n",
      "= = = = = = = = = = = = = = = = = = = = \n",
      "Mean Loss: 0.38032404765486716\n",
      "Mean Val Loss: 0.3902588853985071\n"
     ]
    }
   ],
   "source": [
    "hd = history.history\n",
    "val_loss = hd[\"val_loss\"]\n",
    "loss = hd[\"loss\"]\n",
    "\n",
    "accuracy = hd[\"accuracy\"]\n",
    "val_accuracy = hd[\"val_accuracy\"]\n",
    "\n",
    "epochs = range(1, len(accuracy)+1)\n",
    "\n",
    "print(f\"Mean Val Accuracy: {np.mean(val_accuracy)}\")\n",
    "print(f\"Mean Accuracy: {np.mean(accuracy)}\")\n",
    "print(\"= \" * 20)\n",
    "print(f\"Mean Loss: {np.mean(loss)}\")\n",
    "print(f\"Mean Val Loss: {np.mean(val_loss)}\")"
   ]
  },
  {
   "cell_type": "code",
   "execution_count": 37,
   "id": "ac714908",
   "metadata": {
    "scrolled": true
   },
   "outputs": [
    {
     "data": {
      "text/plain": [
       "<matplotlib.legend.Legend at 0x7fc32b454a60>"
      ]
     },
     "execution_count": 37,
     "metadata": {},
     "output_type": "execute_result"
    },
    {
     "data": {
      "image/png": "[encoded data removed]",
      "text/plain": [
       "<Figure size 432x288 with 1 Axes>"
      ]
     },
     "metadata": {
      "needs_background": "light"
     },
     "output_type": "display_data"
    }
   ],
   "source": [
    "plt.plot(epochs, accuracy, label=\"Training Set Accuracy\")\n",
    "plt.plot(epochs, val_accuracy, label=\"Validational Set Accuracy\")\n",
    "plt.title(\"Training and Validational Set Accuracy\")\n",
    "plt.xlabel(\"Epochs\")\n",
    "plt.ylabel(\"Accuracy\")\n",
    "\n",
    "plt.legend()\n"
   ]
  },
  {
   "cell_type": "code",
   "execution_count": 38,
   "id": "70c3ab27",
   "metadata": {},
   "outputs": [
    {
     "data": {
      "text/plain": [
       "<matplotlib.legend.Legend at 0x7fc32b613640>"
      ]
     },
     "execution_count": 38,
     "metadata": {},
     "output_type": "execute_result"
    },
    {
     "data": {
      "image/png": "[encoded data removed]",
      "text/plain": [
       "<Figure size 432x288 with 1 Axes>"
      ]
     },
     "metadata": {
      "needs_background": "light"
     },
     "output_type": "display_data"
    }
   ],
   "source": [
    "plt.clf()\n",
    "plt.plot(epochs, loss, label=\"Training Loss\")\n",
    "plt.plot(epochs, val_loss, label=\"Validational Loss\")\n",
    "plt.title(\"Tarining and Validaitional Loss\")\n",
    "plt.xlabel(\"Epochs\")\n",
    "plt.ylabel(\"Loss\")\n",
    "\n",
    "plt.legend()"
   ]
  },
  {
   "cell_type": "markdown",
   "id": "ae2e1d8b",
   "metadata": {},
   "source": [
    "#### 基准模型解析\n",
    "基准模型采用了最简单的网络架构，结果在150轮开始过拟合，准度降低损失升高。"
   ]
  },
  {
   "cell_type": "markdown",
   "id": "d1e35c0a",
   "metadata": {},
   "source": [
    "#### 采用K折交叉验证来保证模型得分的可靠性\n",
    "由于训练数据较少，仅有819条，所以采用K折交叉验证可靠性会高一点。"
   ]
  },
  {
   "cell_type": "code",
   "execution_count": 39,
   "id": "c661f3c8",
   "metadata": {},
   "outputs": [],
   "source": [
    "# sklearn辅助\n",
    "from sklearn.neighbors import KNeighborsClassifier\n",
    "from sklearn.model_selection import cross_val_score\n",
    "from sklearn.model_selection import KFold"
   ]
  },
  {
   "cell_type": "code",
   "execution_count": 40,
   "id": "37271c7a",
   "metadata": {},
   "outputs": [
    {
     "data": {
      "text/plain": [
       "Text(0, 0.5, 'K Score')"
      ]
     },
     "execution_count": 40,
     "metadata": {},
     "output_type": "execute_result"
    },
    {
     "data": {
      "image/png": "[encoded data removed]",
      "text/plain": [
       "<Figure size 432x288 with 1 Axes>"
      ]
     },
     "metadata": {
      "needs_background": "light"
     },
     "output_type": "display_data"
    }
   ],
   "source": [
    "# 利用sklearn来计算哪个K值为最佳\n",
    "k_range = range(1, 50)\n",
    "k_scores = []\n",
    "for i in k_range:\n",
    "    knn = KNeighborsClassifier(n_neighbors=i)\n",
    "    score = cross_val_score(knn, x_train, y_train, cv=10, scoring='accuracy')\n",
    "    k_scores.append(score.mean())\n",
    "\n",
    "plt.plot(k_range, k_scores)\n",
    "plt.title(\"Scores for KNN\")\n",
    "plt.xlabel(\"K Range\")\n",
    "plt.ylabel(\"K Score\")"
   ]
  },
  {
   "cell_type": "code",
   "execution_count": 41,
   "id": "177decea",
   "metadata": {},
   "outputs": [],
   "source": [
    "# k值为上面计算出来的最佳值的下标+1\n",
    "k = np.argmax(k_scores) + 1"
   ]
  },
  {
   "cell_type": "code",
   "execution_count": 42,
   "id": "252ef993",
   "metadata": {},
   "outputs": [
    {
     "name": "stdout",
     "output_type": "stream",
     "text": [
      "2/2 [==============================] - 0s 2ms/step - loss: 0.3246 - accuracy: 0.9107\n",
      "2/2 [==============================] - 0s 2ms/step - loss: 0.4242 - accuracy: 0.8036\n",
      "2/2 [==============================] - 0s 2ms/step - loss: 0.5041 - accuracy: 0.7321\n",
      "WARNING:tensorflow:5 out of the last 807 calls to <function Model.make_test_function.<locals>.test_function at 0x7fc32c7ecf70> triggered tf.function retracing. Tracing is expensive and the excessive number of tracings could be due to (1) creating @tf.function repeatedly in a loop, (2) passing tensors with different shapes, (3) passing Python objects instead of tensors. For (1), please define your @tf.function outside of the loop. For (2), @tf.function has experimental_relax_shapes=True option that relaxes argument shapes that can avoid unnecessary retracing. For (3), please refer to https://www.tensorflow.org/guide/function#controlling_retracing and https://www.tensorflow.org/api_docs/python/tf/function for  more details.\n",
      "2/2 [==============================] - 0s 2ms/step - loss: 0.4929 - accuracy: 0.7857\n",
      "WARNING:tensorflow:6 out of the last 809 calls to <function Model.make_test_function.<locals>.test_function at 0x7fc32c7ec160> triggered tf.function retracing. Tracing is expensive and the excessive number of tracings could be due to (1) creating @tf.function repeatedly in a loop, (2) passing tensors with different shapes, (3) passing Python objects instead of tensors. For (1), please define your @tf.function outside of the loop. For (2), @tf.function has experimental_relax_shapes=True option that relaxes argument shapes that can avoid unnecessary retracing. For (3), please refer to https://www.tensorflow.org/guide/function#controlling_retracing and https://www.tensorflow.org/api_docs/python/tf/function for  more details.\n",
      "2/2 [==============================] - 0s 2ms/step - loss: 0.4345 - accuracy: 0.7679\n",
      "WARNING:tensorflow:6 out of the last 11 calls to <function Model.make_test_function.<locals>.test_function at 0x7fc32f3990d0> triggered tf.function retracing. Tracing is expensive and the excessive number of tracings could be due to (1) creating @tf.function repeatedly in a loop, (2) passing tensors with different shapes, (3) passing Python objects instead of tensors. For (1), please define your @tf.function outside of the loop. For (2), @tf.function has experimental_relax_shapes=True option that relaxes argument shapes that can avoid unnecessary retracing. For (3), please refer to https://www.tensorflow.org/guide/function#controlling_retracing and https://www.tensorflow.org/api_docs/python/tf/function for  more details.\n",
      "2/2 [==============================] - 0s 2ms/step - loss: 0.6147 - accuracy: 0.7500\n",
      "WARNING:tensorflow:6 out of the last 11 calls to <function Model.make_test_function.<locals>.test_function at 0x7fc3301e8e50> triggered tf.function retracing. Tracing is expensive and the excessive number of tracings could be due to (1) creating @tf.function repeatedly in a loop, (2) passing tensors with different shapes, (3) passing Python objects instead of tensors. For (1), please define your @tf.function outside of the loop. For (2), @tf.function has experimental_relax_shapes=True option that relaxes argument shapes that can avoid unnecessary retracing. For (3), please refer to https://www.tensorflow.org/guide/function#controlling_retracing and https://www.tensorflow.org/api_docs/python/tf/function for  more details.\n",
      "2/2 [==============================] - 0s 2ms/step - loss: 0.3305 - accuracy: 0.8571\n",
      "WARNING:tensorflow:6 out of the last 11 calls to <function Model.make_test_function.<locals>.test_function at 0x7fc3301e8ca0> triggered tf.function retracing. Tracing is expensive and the excessive number of tracings could be due to (1) creating @tf.function repeatedly in a loop, (2) passing tensors with different shapes, (3) passing Python objects instead of tensors. For (1), please define your @tf.function outside of the loop. For (2), @tf.function has experimental_relax_shapes=True option that relaxes argument shapes that can avoid unnecessary retracing. For (3), please refer to https://www.tensorflow.org/guide/function#controlling_retracing and https://www.tensorflow.org/api_docs/python/tf/function for  more details.\n",
      "2/2 [==============================] - 0s 2ms/step - loss: 0.3868 - accuracy: 0.8036\n",
      "WARNING:tensorflow:6 out of the last 11 calls to <function Model.make_test_function.<locals>.test_function at 0x7fc331fbca60> triggered tf.function retracing. Tracing is expensive and the excessive number of tracings could be due to (1) creating @tf.function repeatedly in a loop, (2) passing tensors with different shapes, (3) passing Python objects instead of tensors. For (1), please define your @tf.function outside of the loop. For (2), @tf.function has experimental_relax_shapes=True option that relaxes argument shapes that can avoid unnecessary retracing. For (3), please refer to https://www.tensorflow.org/guide/function#controlling_retracing and https://www.tensorflow.org/api_docs/python/tf/function for  more details.\n",
      "2/2 [==============================] - 0s 2ms/step - loss: 0.3802 - accuracy: 0.8571\n",
      "WARNING:tensorflow:6 out of the last 11 calls to <function Model.make_test_function.<locals>.test_function at 0x7fc331fbc310> triggered tf.function retracing. Tracing is expensive and the excessive number of tracings could be due to (1) creating @tf.function repeatedly in a loop, (2) passing tensors with different shapes, (3) passing Python objects instead of tensors. For (1), please define your @tf.function outside of the loop. For (2), @tf.function has experimental_relax_shapes=True option that relaxes argument shapes that can avoid unnecessary retracing. For (3), please refer to https://www.tensorflow.org/guide/function#controlling_retracing and https://www.tensorflow.org/api_docs/python/tf/function for  more details.\n",
      "2/2 [==============================] - 0s 2ms/step - loss: 0.6553 - accuracy: 0.7321\n",
      "WARNING:tensorflow:6 out of the last 11 calls to <function Model.make_test_function.<locals>.test_function at 0x7fc32c552e50> triggered tf.function retracing. Tracing is expensive and the excessive number of tracings could be due to (1) creating @tf.function repeatedly in a loop, (2) passing tensors with different shapes, (3) passing Python objects instead of tensors. For (1), please define your @tf.function outside of the loop. For (2), @tf.function has experimental_relax_shapes=True option that relaxes argument shapes that can avoid unnecessary retracing. For (3), please refer to https://www.tensorflow.org/guide/function#controlling_retracing and https://www.tensorflow.org/api_docs/python/tf/function for  more details.\n",
      "2/2 [==============================] - 0s 2ms/step - loss: 0.3746 - accuracy: 0.8571\n",
      "WARNING:tensorflow:6 out of the last 11 calls to <function Model.make_test_function.<locals>.test_function at 0x7fc32a450a60> triggered tf.function retracing. Tracing is expensive and the excessive number of tracings could be due to (1) creating @tf.function repeatedly in a loop, (2) passing tensors with different shapes, (3) passing Python objects instead of tensors. For (1), please define your @tf.function outside of the loop. For (2), @tf.function has experimental_relax_shapes=True option that relaxes argument shapes that can avoid unnecessary retracing. For (3), please refer to https://www.tensorflow.org/guide/function#controlling_retracing and https://www.tensorflow.org/api_docs/python/tf/function for  more details.\n",
      "2/2 [==============================] - 0s 2ms/step - loss: 0.6195 - accuracy: 0.7273\n",
      "WARNING:tensorflow:6 out of the last 11 calls to <function Model.make_test_function.<locals>.test_function at 0x7fc32c552280> triggered tf.function retracing. Tracing is expensive and the excessive number of tracings could be due to (1) creating @tf.function repeatedly in a loop, (2) passing tensors with different shapes, (3) passing Python objects instead of tensors. For (1), please define your @tf.function outside of the loop. For (2), @tf.function has experimental_relax_shapes=True option that relaxes argument shapes that can avoid unnecessary retracing. For (3), please refer to https://www.tensorflow.org/guide/function#controlling_retracing and https://www.tensorflow.org/api_docs/python/tf/function for  more details.\n"
     ]
    },
    {
     "name": "stdout",
     "output_type": "stream",
     "text": [
      "2/2 [==============================] - 0s 2ms/step - loss: 0.3681 - accuracy: 0.8182\n",
      "WARNING:tensorflow:6 out of the last 11 calls to <function Model.make_test_function.<locals>.test_function at 0x7fc33529c160> triggered tf.function retracing. Tracing is expensive and the excessive number of tracings could be due to (1) creating @tf.function repeatedly in a loop, (2) passing tensors with different shapes, (3) passing Python objects instead of tensors. For (1), please define your @tf.function outside of the loop. For (2), @tf.function has experimental_relax_shapes=True option that relaxes argument shapes that can avoid unnecessary retracing. For (3), please refer to https://www.tensorflow.org/guide/function#controlling_retracing and https://www.tensorflow.org/api_docs/python/tf/function for  more details.\n",
      "2/2 [==============================] - 0s 2ms/step - loss: 0.4108 - accuracy: 0.8000\n",
      "WARNING:tensorflow:6 out of the last 11 calls to <function Model.make_test_function.<locals>.test_function at 0x7fc33529cf70> triggered tf.function retracing. Tracing is expensive and the excessive number of tracings could be due to (1) creating @tf.function repeatedly in a loop, (2) passing tensors with different shapes, (3) passing Python objects instead of tensors. For (1), please define your @tf.function outside of the loop. For (2), @tf.function has experimental_relax_shapes=True option that relaxes argument shapes that can avoid unnecessary retracing. For (3), please refer to https://www.tensorflow.org/guide/function#controlling_retracing and https://www.tensorflow.org/api_docs/python/tf/function for  more details.\n",
      "2/2 [==============================] - 0s 2ms/step - loss: 0.4047 - accuracy: 0.7818\n",
      "WARNING:tensorflow:6 out of the last 11 calls to <function Model.make_test_function.<locals>.test_function at 0x7fc335b371f0> triggered tf.function retracing. Tracing is expensive and the excessive number of tracings could be due to (1) creating @tf.function repeatedly in a loop, (2) passing tensors with different shapes, (3) passing Python objects instead of tensors. For (1), please define your @tf.function outside of the loop. For (2), @tf.function has experimental_relax_shapes=True option that relaxes argument shapes that can avoid unnecessary retracing. For (3), please refer to https://www.tensorflow.org/guide/function#controlling_retracing and https://www.tensorflow.org/api_docs/python/tf/function for  more details.\n",
      "2/2 [==============================] - 0s 2ms/step - loss: 0.4165 - accuracy: 0.8182\n"
     ]
    }
   ],
   "source": [
    "# 进行K折验证\n",
    "k_fold = KFold(n_splits=k, shuffle=True)\n",
    "indicies = k_fold.split(x_train)\n",
    "losses = []\n",
    "accuracies = []\n",
    "preds = []\n",
    "models = []\n",
    "\n",
    "val_losses = []\n",
    "val_accuracies = []\n",
    "for train_indicies, val_indicies in indicies:\n",
    "    x_val, y_val = x_train[val_indicies], y_train[val_indicies]\n",
    "    kx_train, ky_train = x_train[train_indicies], y_train[train_indicies]\n",
    "    \n",
    "    model = Sequential()\n",
    "    model.add(layers.Dense(64, input_shape=(kx_train.shape[-1],)))\n",
    "    model.add(LeakyReLU(alpha=0.01))\n",
    "    model.add(layers.Dropout(0.5))\n",
    "    \n",
    "    \n",
    "    model.add(layers.Dense(128))\n",
    "    model.add(LeakyReLU(alpha=0.01))\n",
    "    model.add(layers.Dropout(0.5))\n",
    "    \n",
    "    model.add(layers.Dense(1, activation=\"sigmoid\"))\n",
    "    model.compile(loss=\"binary_crossentropy\",  optimizer=\"adam\", metrics=[\"accuracy\"])\n",
    "    \n",
    "    history = model.fit(kx_train, ky_train, epochs=300, batch_size=64, verbose=0)\n",
    "    \n",
    "    losses.append(np.mean(history.history['loss']))\n",
    "    accuracies.append(np.mean(history.history['accuracy']))\n",
    "    val_loss, val_accuracy = model.evaluate(x_val, y_val)\n",
    "    val_losses.append(val_loss)\n",
    "    val_accuracies.append(val_accuracy)\n",
    "    preds.append(model.predict(x_test))\n",
    "    models.append(model)"
   ]
  },
  {
   "cell_type": "code",
   "execution_count": 43,
   "id": "7dfe36eb",
   "metadata": {},
   "outputs": [],
   "source": [
    "result_df = pd.DataFrame({\"K\": range(k), \"Accuracy\": accuracies,\"Loss\": losses, \"Val_Accuracy\": val_accuracies, \"Val_Loss\": val_losses})"
   ]
  },
  {
   "cell_type": "code",
   "execution_count": 44,
   "id": "dfcdae38",
   "metadata": {},
   "outputs": [],
   "source": [
    "melt_df = result_df.melt(id_vars=\"K\", var_name=\"var_name\", value_name=\"values\")"
   ]
  },
  {
   "cell_type": "code",
   "execution_count": 45,
   "id": "3c9f9a25",
   "metadata": {},
   "outputs": [
    {
     "data": {
      "text/html": [
       "<div>\n",
       "<style scoped>\n",
       "    .dataframe tbody tr th:only-of-type {\n",
       "        vertical-align: middle;\n",
       "    }\n",
       "\n",
       "    .dataframe tbody tr th {\n",
       "        vertical-align: top;\n",
       "    }\n",
       "\n",
       "    .dataframe thead th {\n",
       "        text-align: right;\n",
       "    }\n",
       "</style>\n",
       "<table border=\"1\" class=\"dataframe\">\n",
       "  <thead>\n",
       "    <tr style=\"text-align: right;\">\n",
       "      <th></th>\n",
       "      <th>K</th>\n",
       "      <th>var_name</th>\n",
       "      <th>values</th>\n",
       "    </tr>\n",
       "  </thead>\n",
       "  <tbody>\n",
       "    <tr>\n",
       "      <th>0</th>\n",
       "      <td>0</td>\n",
       "      <td>Accuracy</td>\n",
       "      <td>0.786475</td>\n",
       "    </tr>\n",
       "    <tr>\n",
       "      <th>1</th>\n",
       "      <td>1</td>\n",
       "      <td>Accuracy</td>\n",
       "      <td>0.791513</td>\n",
       "    </tr>\n",
       "    <tr>\n",
       "      <th>2</th>\n",
       "      <td>2</td>\n",
       "      <td>Accuracy</td>\n",
       "      <td>0.790128</td>\n",
       "    </tr>\n",
       "    <tr>\n",
       "      <th>3</th>\n",
       "      <td>3</td>\n",
       "      <td>Accuracy</td>\n",
       "      <td>0.788439</td>\n",
       "    </tr>\n",
       "    <tr>\n",
       "      <th>4</th>\n",
       "      <td>4</td>\n",
       "      <td>Accuracy</td>\n",
       "      <td>0.792048</td>\n",
       "    </tr>\n",
       "  </tbody>\n",
       "</table>\n",
       "</div>"
      ],
      "text/plain": [
       "   K  var_name    values\n",
       "0  0  Accuracy  0.786475\n",
       "1  1  Accuracy  0.791513\n",
       "2  2  Accuracy  0.790128\n",
       "3  3  Accuracy  0.788439\n",
       "4  4  Accuracy  0.792048"
      ]
     },
     "execution_count": 45,
     "metadata": {},
     "output_type": "execute_result"
    }
   ],
   "source": [
    "melt_df.head()"
   ]
  },
  {
   "cell_type": "code",
   "execution_count": 46,
   "id": "5716209c",
   "metadata": {},
   "outputs": [
    {
     "data": {
      "text/plain": [
       "<matplotlib.legend.Legend at 0x7fc32b41bca0>"
      ]
     },
     "execution_count": 46,
     "metadata": {},
     "output_type": "execute_result"
    },
    {
     "data": {
      "image/png": "[encoded data removed]",
      "text/plain": [
       "<Figure size 432x288 with 1 Axes>"
      ]
     },
     "metadata": {
      "needs_background": "light"
     },
     "output_type": "display_data"
    }
   ],
   "source": [
    "sns.lineplot(data=melt_df, x=\"K\", y=\"values\", hue='var_name')\n",
    "plt.legend()"
   ]
  },
  {
   "cell_type": "markdown",
   "id": "78e4f8cd",
   "metadata": {},
   "source": [
    "- 在数据量不足的情况下，得到的损失值波动较大，准确率还算可以。"
   ]
  },
  {
   "cell_type": "code",
   "execution_count": 59,
   "id": "ecbc6135",
   "metadata": {
    "scrolled": true
   },
   "outputs": [
    {
     "name": "stdout",
     "output_type": "stream",
     "text": [
      "Mean loss: 0.46676663847640154\n",
      "Mean accuracy: 79.03%\n",
      "Mean val loss: 0.44636147283017635\n",
      "Mean val accuracy: 80.02%\n"
     ]
    }
   ],
   "source": [
    "print(f\"Mean loss: {np.mean(losses)}\")\n",
    "print(f\"Mean accuracy: {round(np.mean(accuracies) * 100, 2)}%\")\n",
    "\n",
    "print(f\"Mean val loss: {np.mean(val_losses)}\")\n",
    "print(f\"Mean val accuracy: {round(np.mean(val_accuracies) * 100, 2)}%\")"
   ]
  },
  {
   "cell_type": "markdown",
   "id": "a558ef11",
   "metadata": {},
   "source": [
    "- 平均验证准度为80%左右，损失在44%左右，与训练集的准度相差无几，可以认为没有过拟合。"
   ]
  },
  {
   "cell_type": "code",
   "execution_count": 49,
   "id": "2683c78f",
   "metadata": {
    "scrolled": false
   },
   "outputs": [],
   "source": [
    "# 自己实现的K-Fold验证\n",
    "\n",
    "# k = 10\n",
    "# each_volumn = len(x_train) // k\n",
    "# losses = []\n",
    "# accuracies = []\n",
    "# preds = []\n",
    "# models = []\n",
    "\n",
    "# k_train = x_train.copy()\n",
    "# k_label = y_train.copy()\n",
    "\n",
    "# for i in range(0, k):\n",
    "#     indicies = np.arange(len(k_train))\n",
    "#     np.random.shuffle(indicies)\n",
    "#     k_train = k_train[indicies]\n",
    "#     k_label = k_label[indicies]\n",
    "    \n",
    "#     x_val = k_train[i * each_volumn: (i+1) * each_volumn]\n",
    "#     y_val = k_label[i * each_volumn: (i+1) * each_volumn]\n",
    "    \n",
    "#     k_x_train = np.concatenate([\n",
    "#         k_train[(i+1) * each_volumn:],\n",
    "#         k_train[:i * each_volumn]\n",
    "#     ])\n",
    "    \n",
    "#     k_y_train = np.concatenate([\n",
    "#         k_label[(i+1) * each_volumn:],\n",
    "#         k_label[:i * each_volumn]\n",
    "#     ])\n",
    "\n",
    "#     model = Sequential()\n",
    "#     model.add(layers.Dense(128, input_shape=(k_x_train.shape[-1],)))\n",
    "#     model.add(LeakyReLU(alpha=0.01))\n",
    "    \n",
    "    \n",
    "#     model.add(layers.Dense(256))\n",
    "#     model.add(LeakyReLU(alpha=0.01))\n",
    "#     model.add(layers.Dropout(0.5))\n",
    "    \n",
    "#     model.add(layers.Dense(256))\n",
    "#     model.add(LeakyReLU(alpha=0.01))\n",
    "#     model.add(layers.Dropout(0.5))\n",
    "    \n",
    "#     model.add(layers.Dense(1, activation=\"sigmoid\"))\n",
    "#     model.compile(loss=\"binary_crossentropy\",  optimizer=\"adam\", metrics=[\"accuracy\"])\n",
    "    \n",
    "#     history = model.fit(k_x_train, k_y_train, epochs=400, batch_size=128, verbose=0)\n",
    "#     print(f\"Acc avg: {np.mean(history.history['accuracy'])}\")\n",
    "#     print(f\"Loss avg: {np.mean(history.history['loss'])}\")\n",
    "#     loss, accuracy = model.evaluate(x_val, y_val)\n",
    "#     losses.append(loss)\n",
    "#     accuracies.append(accuracy)\n",
    "#     preds.append(model.predict(x_test))\n",
    "#     models.append(model)\n",
    "    \n",
    "    \n",
    "    "
   ]
  },
  {
   "cell_type": "code",
   "execution_count": 51,
   "id": "5c708cfc",
   "metadata": {
    "scrolled": true
   },
   "outputs": [
    {
     "name": "stderr",
     "output_type": "stream",
     "text": [
      "/Users/chanzeebm/opt/miniconda3/lib/python3.8/site-packages/tensorflow/python/keras/engine/sequential.py:450: UserWarning: `model.predict_classes()` is deprecated and will be removed after 2021-01-01. Please use instead:* `np.argmax(model.predict(x), axis=-1)`,   if your model does multi-class classification   (e.g. if it uses a `softmax` last-layer activation).* `(model.predict(x) > 0.5).astype(\"int32\")`,   if your model does binary classification   (e.g. if it uses a `sigmoid` last-layer activation).\n",
      "  warnings.warn('`model.predict_classes()` is deprecated and '\n"
     ]
    }
   ],
   "source": [
    "# 使用准确率最高的模型来对测试集进行预测\n",
    "best_indice = np.argmax(accuracies)\n",
    "best_model = models[best_indice]\n",
    "dnn_predict = best_model.predict_classes(x_test)"
   ]
  },
  {
   "cell_type": "code",
   "execution_count": 52,
   "id": "ff99d089",
   "metadata": {},
   "outputs": [],
   "source": [
    "dnn_predict = dnn_predict.reshape((len(dnn_predict),))"
   ]
  },
  {
   "cell_type": "markdown",
   "id": "7c0abcad",
   "metadata": {},
   "source": [
    "### Sklearn机器学习模型评估"
   ]
  },
  {
   "cell_type": "code",
   "execution_count": 53,
   "id": "0ba65ee2",
   "metadata": {},
   "outputs": [],
   "source": [
    "from sklearn.tree import DecisionTreeClassifier\n",
    "from sklearn.linear_model import SGDClassifier\n",
    "from sklearn.ensemble import RandomForestClassifier"
   ]
  },
  {
   "cell_type": "code",
   "execution_count": 54,
   "id": "a0171511",
   "metadata": {},
   "outputs": [
    {
     "name": "stdout",
     "output_type": "stream",
     "text": [
      "84.74\n"
     ]
    }
   ],
   "source": [
    "# 决策树评估\n",
    "dicision_tree = DecisionTreeClassifier()\n",
    "dicision_tree.fit(x_train, y_train)\n",
    "dt_pred = dicision_tree.predict(x_test)\n",
    "\n",
    "acc_dicision_tree = round(dicision_tree.score(x_train, y_train) * 100, 2)\n",
    "print(acc_dicision_tree)"
   ]
  },
  {
   "cell_type": "code",
   "execution_count": 55,
   "id": "1884f95d",
   "metadata": {},
   "outputs": [
    {
     "name": "stdout",
     "output_type": "stream",
     "text": [
      "77.1\n"
     ]
    }
   ],
   "source": [
    "# SGD评估\n",
    "sgd = SGDClassifier()\n",
    "sgd.fit(x_train, y_train)\n",
    "sgd_pred = sgd.predict(x_test)\n",
    "acc_sgd = round(sgd.score(x_train, y_train) * 100, 2)\n",
    "print(acc_sgd)"
   ]
  },
  {
   "cell_type": "code",
   "execution_count": 56,
   "id": "64bbe1b0",
   "metadata": {},
   "outputs": [
    {
     "name": "stdout",
     "output_type": "stream",
     "text": [
      "84.74\n"
     ]
    }
   ],
   "source": [
    "# 随机森林评估\n",
    "random_forest = RandomForestClassifier()\n",
    "random_forest.fit(x_train, y_train)\n",
    "random_forest_pred = random_forest.predict(x_test)\n",
    "acc_random_forest = round(random_forest.score(x_train, y_train) * 100, 2)\n",
    "print(acc_random_forest)"
   ]
  },
  {
   "cell_type": "code",
   "execution_count": 58,
   "id": "51413028",
   "metadata": {},
   "outputs": [],
   "source": [
    "# 生成数据提交\n",
    "# submit_df = pd.DataFrame({\"PassengerId\": df_test.PassengerId, \"Survived\": dnn_predict})\n",
    "# submit_df.to_csv(\"Submit.csv\", index=False)"
   ]
  }
 ],
 "metadata": {
  "kernelspec": {
   "display_name": "Python 3",
   "language": "python",
   "name": "python3"
  },
  "language_info": {
   "codemirror_mode": {
    "name": "ipython",
    "version": 3
   },
   "file_extension": ".py",
   "mimetype": "text/x-python",
   "name": "python",
   "nbconvert_exporter": "python",
   "pygments_lexer": "ipython3",
   "version": "3.8.8"
  }
 },
 "nbformat": 4,
 "nbformat_minor": 5
}
