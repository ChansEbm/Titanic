{
 "cells": [
  {
   "cell_type": "code",
   "execution_count": 1,
   "id": "9cc63733",
   "metadata": {},
   "outputs": [
    {
     "name": "stderr",
     "output_type": "stream",
     "text": [
      "/Users/chanzeebm/opt/miniconda3/lib/python3.8/site-packages/gensim/similarities/__init__.py:15: UserWarning: The gensim.similarities.levenshtein submodule is disabled, because the optional Levenshtein package <https://pypi.org/project/python-Levenshtein/> is unavailable. Install Levenhstein (e.g. `pip install python-Levenshtein`) to suppress this warning.\n",
      "  warnings.warn(msg)\n"
     ]
    }
   ],
   "source": [
    "from keras import layers\n",
    "from keras import Sequential\n",
    "from keras import activations\n",
    "from keras.preprocessing.sequence import pad_sequences\n",
    "from keras.preprocessing.text import Tokenizer\n",
    "from keras import callbacks\n",
    "\n",
    "from gensim.models import Word2Vec\n",
    "from gensim import corpora\n",
    "from gensim.utils import simple_preprocess\n",
    "\n",
    "import numpy as np\n",
    "from pathlib import Path\n",
    "import matplotlib.pyplot as plt"
   ]
  },
  {
   "cell_type": "code",
   "execution_count": 2,
   "id": "2210f335",
   "metadata": {},
   "outputs": [],
   "source": [
    "# 加载语料\n",
    "def gen_corpus(corpus):\n",
    "    with corpus.open(\"r\") as f:\n",
    "        return f.read()"
   ]
  },
  {
   "cell_type": "code",
   "execution_count": 3,
   "id": "2f4e3877",
   "metadata": {},
   "outputs": [],
   "source": [
    "# 加载数据\n",
    "file_path = Path(\"./aclImdb/\")\n",
    "def load_data(target=\"train\", /):\n",
    "    assert target.lower() in [\"train\", \"test\"], f\"Target must be either 'train' or 'test', got: {target}\"\n",
    "    categories = [\"pos\", \"neg\"]\n",
    "    target_path = file_path.joinpath(target)\n",
    "    labels = np.asarray([])\n",
    "    corpus = []\n",
    "    for category in categories:\n",
    "        label_path = target_path.joinpath(category)\n",
    "        all_txt_files = label_path.glob(\"*.txt\")\n",
    "        \n",
    "        plain_texts = map(gen_corpus, all_txt_files)\n",
    "        temp_corpus = [simple_preprocess(plain_text) for plain_text in plain_texts]\n",
    "        corpus += temp_corpus\n",
    "        \n",
    "        if category == 'neg':\n",
    "            labels = np.insert(labels, 0, np.zeros((len(temp_corpus), )))\n",
    "        else :\n",
    "            labels = np.insert(labels, 0, np.ones((len(temp_corpus), )))\n",
    "    return corpus, labels"
   ]
  },
  {
   "cell_type": "code",
   "execution_count": 4,
   "id": "04a82b83",
   "metadata": {},
   "outputs": [],
   "source": [
    "corpus, labels = load_data()"
   ]
  },
  {
   "cell_type": "code",
   "execution_count": 5,
   "id": "5b873f5f",
   "metadata": {},
   "outputs": [],
   "source": [
    "# 初始化最大词汇量、每个句子最大长度、每个词对应维度\n",
    "max_words = 15000\n",
    "max_len = 150\n",
    "vocab_size = 64"
   ]
  },
  {
   "cell_type": "code",
   "execution_count": 6,
   "id": "177af351",
   "metadata": {},
   "outputs": [],
   "source": [
    "# 建立tokenizer，主要用于把词语转化为向量\n",
    "tokenizer = Tokenizer(num_words=max_words)\n",
    "tokenizer.fit_on_texts(corpus)"
   ]
  },
  {
   "cell_type": "code",
   "execution_count": 7,
   "id": "3b37f82b",
   "metadata": {},
   "outputs": [],
   "source": [
    "x_train = tokenizer.texts_to_sequences(corpus)\n",
    "x_train = pad_sequences(x_train, maxlen=max_len)"
   ]
  },
  {
   "cell_type": "markdown",
   "id": "5b54d9d7",
   "metadata": {},
   "source": [
    "### 开发基准模型\n",
    "基准模型只使用最普通的RNN处理方法，一个词嵌入层和单层LSTM，由此来训练一个适合此情感分析的Embedded。"
   ]
  },
  {
   "cell_type": "code",
   "execution_count": 8,
   "id": "9c4cbd48",
   "metadata": {},
   "outputs": [],
   "source": [
    "# 打乱数据\n",
    "indicies = np.arange(0, len(x_train))\n",
    "np.random.shuffle(indicies)\n",
    "x_train = x_train[indicies]\n",
    "labels = labels[indicies]"
   ]
  },
  {
   "cell_type": "code",
   "execution_count": 9,
   "id": "870085b1",
   "metadata": {
    "scrolled": true
   },
   "outputs": [
    {
     "name": "stdout",
     "output_type": "stream",
     "text": [
      "Epoch 1/5\n",
      "352/352 [==============================] - 18s 46ms/step - loss: 0.5676 - accuracy: 0.6860 - val_loss: 0.2958 - val_accuracy: 0.8852\n",
      "Epoch 2/5\n",
      "352/352 [==============================] - 14s 41ms/step - loss: 0.2384 - accuracy: 0.9142 - val_loss: 0.2853 - val_accuracy: 0.8832\n",
      "Epoch 3/5\n",
      "352/352 [==============================] - 14s 38ms/step - loss: 0.1564 - accuracy: 0.9460 - val_loss: 0.3026 - val_accuracy: 0.8772\n",
      "Epoch 4/5\n",
      "352/352 [==============================] - 13s 37ms/step - loss: 0.1152 - accuracy: 0.9646 - val_loss: 0.3782 - val_accuracy: 0.8656\n",
      "Epoch 5/5\n",
      "352/352 [==============================] - 13s 37ms/step - loss: 0.0843 - accuracy: 0.9725 - val_loss: 0.4370 - val_accuracy: 0.8528\n"
     ]
    }
   ],
   "source": [
    "# 基准模型开发\n",
    "model = Sequential()\n",
    "model.add(layers.Embedding(input_dim=max_words, output_dim=vocab_size, input_length=max_len))\n",
    "model.add(layers.LSTM(32))\n",
    "model.add(layers.LeakyReLU(alpha=0.01))\n",
    "model.add(layers.Dense(1, activation='sigmoid'))\n",
    "model.compile(optimizer='adam', loss='binary_crossentropy', metrics=['accuracy'])\n",
    "\n",
    "ht = model.fit(x_train, labels, epochs=5, validation_split=0.1, batch_size=64, shuffle=True)"
   ]
  },
  {
   "cell_type": "code",
   "execution_count": 10,
   "id": "02baacb0",
   "metadata": {},
   "outputs": [],
   "source": [
    "hd = ht.history\n",
    "accuracy = hd[\"accuracy\"]\n",
    "val_accuracy = hd[\"val_accuracy\"]\n",
    "\n",
    "loss = hd[\"loss\"]\n",
    "val_loss = hd[\"val_loss\"]\n",
    "\n",
    "epochs = range(0, 5)"
   ]
  },
  {
   "cell_type": "code",
   "execution_count": 11,
   "id": "7053a803",
   "metadata": {},
   "outputs": [
    {
     "data": {
      "text/plain": [
       "<matplotlib.legend.Legend at 0x7fb712fc2460>"
      ]
     },
     "execution_count": 11,
     "metadata": {},
     "output_type": "execute_result"
    },
    {
     "data": {
      "image/png": "[encoded data removed]",
      "text/plain": [
       "<Figure size 432x288 with 1 Axes>"
      ]
     },
     "metadata": {
      "needs_background": "light"
     },
     "output_type": "display_data"
    }
   ],
   "source": [
    "plt.plot(epochs, accuracy, label=\"Training Accuracy\")\n",
    "plt.plot(epochs, val_accuracy, label=\"Validational Accuracy\")\n",
    "plt.title(\"Training and Validational Accuracy\")\n",
    "plt.xlabel(\"Epochs\")\n",
    "plt.ylabel(\"Accuracy\")\n",
    "plt.legend()"
   ]
  },
  {
   "cell_type": "code",
   "execution_count": 12,
   "id": "66a8dc26",
   "metadata": {},
   "outputs": [
    {
     "data": {
      "text/plain": [
       "<matplotlib.legend.Legend at 0x7fb6d590dc70>"
      ]
     },
     "execution_count": 12,
     "metadata": {},
     "output_type": "execute_result"
    },
    {
     "data": {
      "image/png": "[encoded data removed]",
      "text/plain": [
       "<Figure size 432x288 with 1 Axes>"
      ]
     },
     "metadata": {
      "needs_background": "light"
     },
     "output_type": "display_data"
    }
   ],
   "source": [
    "plt.plot(epochs, loss, label=\"Training Loss\")\n",
    "plt.plot(epochs, val_loss, label=\"Validational Loss\")\n",
    "plt.title(\"Training and Validational Loss\")\n",
    "plt.xlabel(\"Epochs\")\n",
    "plt.ylabel(\"Loss\")\n",
    "plt.legend()"
   ]
  },
  {
   "cell_type": "markdown",
   "id": "8f382c3a",
   "metadata": {},
   "source": [
    "### 模型解析\n",
    "模型在第一轮以后开始过拟合，并且训练速度较慢。"
   ]
  },
  {
   "cell_type": "code",
   "execution_count": 13,
   "id": "8e7c82ea",
   "metadata": {},
   "outputs": [],
   "source": [
    "# 利用skip-gram模型生成word2vec词向量。\n",
    "word2vec_model = Word2Vec(corpus, sg=1, vector_size=vocab_size)"
   ]
  },
  {
   "cell_type": "code",
   "execution_count": 14,
   "id": "2cafdb66",
   "metadata": {},
   "outputs": [],
   "source": [
    "# 初始化embedding层的权重\n",
    "embedd_matrix = np.zeros((max_words, vocab_size))"
   ]
  },
  {
   "cell_type": "code",
   "execution_count": 15,
   "id": "3d24f2f9",
   "metadata": {},
   "outputs": [],
   "source": [
    "# 把训练好的word2vec向量加载到embedding matrix里。\n",
    "word_index = tokenizer.word_index\n",
    "default_values = np.zeros((vocab_size, ))\n",
    "wv = word2vec_model.wv\n",
    "for word, index in word_index.items():\n",
    "    if index < max_words:\n",
    "        if word in wv.index_to_key:\n",
    "            embedd_matrix[index] = wv[word]\n",
    "        else :\n",
    "            embedd_matrix[index] = default_values"
   ]
  },
  {
   "cell_type": "code",
   "execution_count": 16,
   "id": "dd06414f",
   "metadata": {},
   "outputs": [],
   "source": [
    "# 新建keras词向量层，使用word2vec的词向量且不可训练\n",
    "embedding_layer = layers.Embedding(input_dim=max_words, output_dim=vocab_size, input_length=max_len, weights=[embedd_matrix], trainable=False)"
   ]
  },
  {
   "cell_type": "code",
   "execution_count": 17,
   "id": "79e32a67",
   "metadata": {},
   "outputs": [],
   "source": [
    "# 使用word2vec的基本模型，与基准模型的不同就只有使用的是word2vec的词向量。\n",
    "model = Sequential()\n",
    "model.add(embedding_layer)\n",
    "model.add(layers.LSTM(32))\n",
    "model.add(layers.LeakyReLU(alpha=0.01))\n",
    "model.add(layers.Dense(1, activation=\"sigmoid\"))\n",
    "model.compile(optimizer='adam', loss='binary_crossentropy', metrics=[\"accuracy\"])"
   ]
  },
  {
   "cell_type": "code",
   "execution_count": 18,
   "id": "3195c6ce",
   "metadata": {
    "scrolled": true
   },
   "outputs": [
    {
     "name": "stdout",
     "output_type": "stream",
     "text": [
      "Epoch 1/5\n",
      "352/352 [==============================] - 12s 30ms/step - loss: 0.6260 - accuracy: 0.6423 - val_loss: 0.4466 - val_accuracy: 0.7944\n",
      "Epoch 2/5\n",
      "352/352 [==============================] - 10s 28ms/step - loss: 0.4735 - accuracy: 0.7812 - val_loss: 0.4105 - val_accuracy: 0.8172\n",
      "Epoch 3/5\n",
      "352/352 [==============================] - 10s 29ms/step - loss: 0.4396 - accuracy: 0.7970 - val_loss: 0.3864 - val_accuracy: 0.8376\n",
      "Epoch 4/5\n",
      "352/352 [==============================] - 11s 30ms/step - loss: 0.4120 - accuracy: 0.8176 - val_loss: 0.3698 - val_accuracy: 0.8304\n",
      "Epoch 5/5\n",
      "352/352 [==============================] - 10s 29ms/step - loss: 0.3996 - accuracy: 0.8183 - val_loss: 0.3593 - val_accuracy: 0.8380\n"
     ]
    }
   ],
   "source": [
    "word2vec_ht = model.fit(x_train, labels, epochs=5, validation_split=0.1, batch_size=64)"
   ]
  },
  {
   "cell_type": "code",
   "execution_count": 19,
   "id": "dc7dc16e",
   "metadata": {},
   "outputs": [],
   "source": [
    "word2vec_hd = word2vec_ht.history\n",
    "accuracy = word2vec_hd[\"accuracy\"]\n",
    "val_accuracy = word2vec_hd[\"val_accuracy\"]\n",
    "\n",
    "loss = word2vec_hd[\"loss\"]\n",
    "val_loss = word2vec_hd[\"val_loss\"]\n",
    "\n",
    "epochs = range(1, len(loss) + 1)"
   ]
  },
  {
   "cell_type": "code",
   "execution_count": 20,
   "id": "998a38ca",
   "metadata": {},
   "outputs": [
    {
     "data": {
      "text/plain": [
       "<matplotlib.legend.Legend at 0x7fb6d59615e0>"
      ]
     },
     "execution_count": 20,
     "metadata": {},
     "output_type": "execute_result"
    },
    {
     "data": {
      "image/png": "[encoded data removed]",
      "text/plain": [
       "<Figure size 432x288 with 1 Axes>"
      ]
     },
     "metadata": {
      "needs_background": "light"
     },
     "output_type": "display_data"
    }
   ],
   "source": [
    "plt.plot(epochs, accuracy, label=\"Training Accuracy\")\n",
    "plt.plot(epochs, val_accuracy, label=\"Validational Accuracy\")\n",
    "plt.title(\"Training and Validational Accuracy\")\n",
    "plt.xlabel(\"Epochs\")\n",
    "plt.ylabel(\"Accuracy\")\n",
    "plt.legend()"
   ]
  },
  {
   "cell_type": "code",
   "execution_count": 21,
   "id": "b6f987e5",
   "metadata": {},
   "outputs": [
    {
     "data": {
      "text/plain": [
       "<matplotlib.legend.Legend at 0x7fb6d7d7f130>"
      ]
     },
     "execution_count": 21,
     "metadata": {},
     "output_type": "execute_result"
    },
    {
     "data": {
      "image/png": "[encoded data removed]",
      "text/plain": [
       "<Figure size 432x288 with 1 Axes>"
      ]
     },
     "metadata": {
      "needs_background": "light"
     },
     "output_type": "display_data"
    }
   ],
   "source": [
    "plt.plot(epochs, loss, label=\"Training Loss\")\n",
    "plt.plot(epochs, val_loss, label=\"Validational Loss\")\n",
    "plt.title(\"Training and Validational Loss\")\n",
    "plt.xlabel(\"Epochs\")\n",
    "plt.ylabel(\"Loss\")\n",
    "plt.legend()"
   ]
  },
  {
   "cell_type": "markdown",
   "id": "92e7f7cd",
   "metadata": {},
   "source": [
    "### 模型解析\n",
    "可以看到模型的其他参数不变，使用了word2vec预处理以后模型得到了极大的升华，而且不用训练embedded速度极快，并且具有极大提升空间，说明word2vec对NLP具有重要作用。"
   ]
  },
  {
   "cell_type": "markdown",
   "id": "e6b2304d",
   "metadata": {},
   "source": [
    "## 优化pre-trained by word2vec模型"
   ]
  },
  {
   "cell_type": "markdown",
   "id": "d001f28d",
   "metadata": {},
   "source": [
    "- 首先使用更大的LSTM和加入更大的Full Connection Network来训练模型"
   ]
  },
  {
   "cell_type": "code",
   "execution_count": 22,
   "id": "55ae1fe8",
   "metadata": {},
   "outputs": [],
   "source": [
    "# 新建模型，使用Word2Vec的作为词嵌入，而且不训练该层。\n",
    "model = Sequential()\n",
    "model.add(embedding_layer)\n",
    "model.add(layers.LSTM(32, return_sequences=True))\n",
    "model.add(layers.LeakyReLU(alpha=0.01))\n",
    "model.add(layers.LSTM(64))\n",
    "model.add(layers.LeakyReLU(alpha=0.01))\n",
    "model.add(layers.Dense(64))\n",
    "model.add(layers.LeakyReLU(alpha=0.01))\n",
    "model.add(layers.Dense(128))\n",
    "model.add(layers.LeakyReLU(alpha=0.01))\n",
    "model.add(layers.Dense(256))\n",
    "model.add(layers.LeakyReLU(alpha=0.01))\n",
    "model.add(layers.Dense(1, activation=\"sigmoid\"))\n",
    "model.compile(optimizer=\"adam\", loss=\"binary_crossentropy\", metrics=[\"accuracy\"])"
   ]
  },
  {
   "cell_type": "code",
   "execution_count": 23,
   "id": "2251e8f5",
   "metadata": {},
   "outputs": [
    {
     "name": "stdout",
     "output_type": "stream",
     "text": [
      "Epoch 1/40\n",
      "352/352 [==============================] - 29s 77ms/step - loss: 0.5821 - accuracy: 0.6747 - val_loss: 0.4120 - val_accuracy: 0.8136\n",
      "Epoch 2/40\n",
      "352/352 [==============================] - 27s 75ms/step - loss: 0.4395 - accuracy: 0.7987 - val_loss: 0.3989 - val_accuracy: 0.8068\n",
      "Epoch 3/40\n",
      "352/352 [==============================] - 27s 76ms/step - loss: 0.4141 - accuracy: 0.8137 - val_loss: 0.3671 - val_accuracy: 0.8492\n",
      "Epoch 4/40\n",
      "352/352 [==============================] - 26s 75ms/step - loss: 0.3908 - accuracy: 0.8314 - val_loss: 0.3331 - val_accuracy: 0.8548\n",
      "Epoch 5/40\n",
      "352/352 [==============================] - 27s 78ms/step - loss: 0.3645 - accuracy: 0.8405 - val_loss: 0.3880 - val_accuracy: 0.8488\n",
      "Epoch 6/40\n",
      "352/352 [==============================] - 28s 80ms/step - loss: 0.3547 - accuracy: 0.8530 - val_loss: 0.3049 - val_accuracy: 0.8712\n",
      "Epoch 7/40\n",
      "352/352 [==============================] - 27s 78ms/step - loss: 0.3228 - accuracy: 0.8651 - val_loss: 0.3188 - val_accuracy: 0.8740\n",
      "Epoch 8/40\n",
      "352/352 [==============================] - 29s 81ms/step - loss: 0.3391 - accuracy: 0.8548 - val_loss: 0.3382 - val_accuracy: 0.8464\n",
      "Epoch 9/40\n",
      "352/352 [==============================] - 28s 79ms/step - loss: 0.3193 - accuracy: 0.8646 - val_loss: 0.3731 - val_accuracy: 0.8344\n",
      "Epoch 10/40\n",
      "352/352 [==============================] - 28s 80ms/step - loss: 0.3300 - accuracy: 0.8618 - val_loss: 0.2941 - val_accuracy: 0.8768\n",
      "Epoch 11/40\n",
      "352/352 [==============================] - 29s 82ms/step - loss: 0.2959 - accuracy: 0.8775 - val_loss: 0.2963 - val_accuracy: 0.8756\n",
      "Epoch 12/40\n",
      "352/352 [==============================] - 26s 75ms/step - loss: 0.2915 - accuracy: 0.8809 - val_loss: 0.2824 - val_accuracy: 0.8864\n",
      "Epoch 13/40\n",
      "352/352 [==============================] - 27s 75ms/step - loss: 0.2884 - accuracy: 0.8814 - val_loss: 0.2947 - val_accuracy: 0.8692\n",
      "Epoch 14/40\n",
      "352/352 [==============================] - 26s 75ms/step - loss: 0.2852 - accuracy: 0.8820 - val_loss: 0.3064 - val_accuracy: 0.8652\n",
      "Epoch 15/40\n",
      "352/352 [==============================] - 27s 76ms/step - loss: 0.2830 - accuracy: 0.8800 - val_loss: 0.2821 - val_accuracy: 0.8816\n",
      "Epoch 16/40\n",
      "352/352 [==============================] - 26s 75ms/step - loss: 0.2624 - accuracy: 0.8907 - val_loss: 0.3077 - val_accuracy: 0.8624\n",
      "Epoch 17/40\n",
      "352/352 [==============================] - 26s 75ms/step - loss: 0.2719 - accuracy: 0.8900 - val_loss: 0.2797 - val_accuracy: 0.8808\n",
      "Epoch 18/40\n",
      "352/352 [==============================] - 26s 75ms/step - loss: 0.2574 - accuracy: 0.8973 - val_loss: 0.2709 - val_accuracy: 0.8892\n",
      "Epoch 19/40\n",
      "352/352 [==============================] - 27s 77ms/step - loss: 0.2478 - accuracy: 0.9017 - val_loss: 0.2770 - val_accuracy: 0.8856\n",
      "Epoch 20/40\n",
      "352/352 [==============================] - 29s 81ms/step - loss: 0.2445 - accuracy: 0.9021 - val_loss: 0.3111 - val_accuracy: 0.8644\n",
      "Epoch 21/40\n",
      "352/352 [==============================] - 27s 76ms/step - loss: 0.2439 - accuracy: 0.9017 - val_loss: 0.2758 - val_accuracy: 0.8924\n",
      "Epoch 22/40\n",
      "352/352 [==============================] - 27s 75ms/step - loss: 0.2337 - accuracy: 0.9105 - val_loss: 0.2990 - val_accuracy: 0.8728\n",
      "Epoch 23/40\n",
      "352/352 [==============================] - 28s 79ms/step - loss: 0.2258 - accuracy: 0.9119 - val_loss: 0.2766 - val_accuracy: 0.8808\n",
      "Epoch 24/40\n",
      "352/352 [==============================] - 27s 76ms/step - loss: 0.2174 - accuracy: 0.9158 - val_loss: 0.3187 - val_accuracy: 0.8768\n",
      "Epoch 25/40\n",
      "352/352 [==============================] - 26s 75ms/step - loss: 0.2198 - accuracy: 0.9132 - val_loss: 0.2799 - val_accuracy: 0.8884\n",
      "Epoch 26/40\n",
      "352/352 [==============================] - 26s 75ms/step - loss: 0.2110 - accuracy: 0.9196 - val_loss: 0.3287 - val_accuracy: 0.8676\n",
      "Epoch 27/40\n",
      "352/352 [==============================] - 26s 75ms/step - loss: 0.2039 - accuracy: 0.9220 - val_loss: 0.2889 - val_accuracy: 0.8876\n",
      "Epoch 28/40\n",
      "352/352 [==============================] - 27s 76ms/step - loss: 0.2079 - accuracy: 0.9186 - val_loss: 0.3208 - val_accuracy: 0.8780\n",
      "Epoch 29/40\n",
      "352/352 [==============================] - 26s 75ms/step - loss: 0.1974 - accuracy: 0.9242 - val_loss: 0.3056 - val_accuracy: 0.8784\n",
      "Epoch 30/40\n",
      "352/352 [==============================] - 26s 75ms/step - loss: 0.1850 - accuracy: 0.9291 - val_loss: 0.3390 - val_accuracy: 0.8768\n",
      "Epoch 31/40\n",
      "352/352 [==============================] - 27s 77ms/step - loss: 0.1767 - accuracy: 0.9336 - val_loss: 0.3554 - val_accuracy: 0.8604\n",
      "Epoch 32/40\n",
      "352/352 [==============================] - 28s 80ms/step - loss: 0.1839 - accuracy: 0.9319 - val_loss: 0.3539 - val_accuracy: 0.8820\n",
      "Epoch 33/40\n",
      "352/352 [==============================] - 27s 76ms/step - loss: 0.1682 - accuracy: 0.9375 - val_loss: 0.3329 - val_accuracy: 0.8708\n",
      "Epoch 34/40\n",
      "352/352 [==============================] - 26s 75ms/step - loss: 0.1686 - accuracy: 0.9381 - val_loss: 0.3437 - val_accuracy: 0.8592\n",
      "Epoch 35/40\n",
      "352/352 [==============================] - 27s 77ms/step - loss: 0.1619 - accuracy: 0.9410 - val_loss: 0.3670 - val_accuracy: 0.8808\n",
      "Epoch 36/40\n",
      "352/352 [==============================] - 27s 77ms/step - loss: 0.1582 - accuracy: 0.9409 - val_loss: 0.3508 - val_accuracy: 0.8784\n",
      "Epoch 37/40\n",
      "352/352 [==============================] - 27s 77ms/step - loss: 0.1457 - accuracy: 0.9489 - val_loss: 0.3807 - val_accuracy: 0.8748\n",
      "Epoch 38/40\n",
      "352/352 [==============================] - 27s 76ms/step - loss: 0.1451 - accuracy: 0.9463 - val_loss: 0.3873 - val_accuracy: 0.8652\n",
      "Epoch 39/40\n",
      "352/352 [==============================] - 27s 75ms/step - loss: 0.1314 - accuracy: 0.9533 - val_loss: 0.4147 - val_accuracy: 0.8592\n",
      "Epoch 40/40\n",
      "352/352 [==============================] - 27s 76ms/step - loss: 0.1314 - accuracy: 0.9536 - val_loss: 0.4340 - val_accuracy: 0.8684\n"
     ]
    }
   ],
   "source": [
    "ht = model.fit(x_train, labels, epochs=40, batch_size=64, validation_split=0.1)"
   ]
  },
  {
   "cell_type": "code",
   "execution_count": 24,
   "id": "0a13e827",
   "metadata": {},
   "outputs": [],
   "source": [
    "word2vec_hd = ht.history\n",
    "accuracy = word2vec_hd[\"accuracy\"]\n",
    "val_accuracy = word2vec_hd[\"val_accuracy\"]\n",
    "\n",
    "loss = word2vec_hd[\"loss\"]\n",
    "val_loss = word2vec_hd[\"val_loss\"]\n",
    "\n",
    "epochs = range(1, len(loss) + 1)"
   ]
  },
  {
   "cell_type": "code",
   "execution_count": 25,
   "id": "5e04f2f5",
   "metadata": {},
   "outputs": [
    {
     "data": {
      "text/plain": [
       "<matplotlib.legend.Legend at 0x7fb6d6283b20>"
      ]
     },
     "execution_count": 25,
     "metadata": {},
     "output_type": "execute_result"
    },
    {
     "data": {
      "image/png": "[encoded data removed]",
      "text/plain": [
       "<Figure size 432x288 with 1 Axes>"
      ]
     },
     "metadata": {
      "needs_background": "light"
     },
     "output_type": "display_data"
    }
   ],
   "source": [
    "plt.plot(epochs, accuracy, label=\"Training Accuracy\")\n",
    "plt.plot(epochs, val_accuracy, label=\"Validational Accuracy\")\n",
    "plt.title(\"Training and Validational Accuracy\")\n",
    "plt.xlabel(\"Epochs\")\n",
    "plt.ylabel(\"Accuracy\")\n",
    "plt.legend()"
   ]
  },
  {
   "cell_type": "code",
   "execution_count": 26,
   "id": "f434190d",
   "metadata": {},
   "outputs": [
    {
     "data": {
      "text/plain": [
       "<matplotlib.legend.Legend at 0x7fb6d7f28ac0>"
      ]
     },
     "execution_count": 26,
     "metadata": {},
     "output_type": "execute_result"
    },
    {
     "data": {
      "image/png": "[encoded data removed]",
      "text/plain": [
       "<Figure size 432x288 with 1 Axes>"
      ]
     },
     "metadata": {
      "needs_background": "light"
     },
     "output_type": "display_data"
    }
   ],
   "source": [
    "plt.plot(epochs, loss, label=\"Training Loss\")\n",
    "plt.plot(epochs, val_loss, label=\"Validational Loss\")\n",
    "plt.title(\"Training and Validational Loss\")\n",
    "plt.xlabel(\"Epochs\")\n",
    "plt.ylabel(\"Loss\")\n",
    "plt.legend()"
   ]
  },
  {
   "cell_type": "markdown",
   "id": "b9982a75",
   "metadata": {},
   "source": [
    "### 模型解析\n",
    "在参数量如此庞大的模型中，使用了word2vec预训练的模型也在第20轮开始过拟合，但也比基准模型强很多倍。"
   ]
  },
  {
   "cell_type": "markdown",
   "id": "480c4874",
   "metadata": {},
   "source": [
    "### 解决过拟合\n",
    "#### 过拟合的产生\n",
    "- 数据差异性较大，本来第i个样本与目标相关性不高，但偏偏选取了强相关的样本训练，此项可排除。\n",
    "- 参数过多，待定。\n",
    "- 训练过程中存在大量噪音，此项可排除。\n",
    "- 网络容量过大。\n",
    "- 权重系数无惩罚项。\n",
    "- 数据量不足。\n",
    "\n",
    "#### 解决方法\n",
    "- 添加dropout。\n",
    "- 减少网络容量。\n",
    "- 添加L2惩罚。\n",
    "- ~~增加数据量。~~"
   ]
  },
  {
   "cell_type": "code",
   "execution_count": 27,
   "id": "6ddd0f4a",
   "metadata": {},
   "outputs": [],
   "source": [
    "import random\n",
    "random_indicies = random.sample(range(0, len(x_train)), int(len(x_train) * 0.1))"
   ]
  },
  {
   "cell_type": "code",
   "execution_count": 28,
   "id": "e41f433b",
   "metadata": {},
   "outputs": [],
   "source": [
    "part_x_train = x_train[random_indicies]\n",
    "part_y_labels = labels[random_indicies]"
   ]
  },
  {
   "cell_type": "code",
   "execution_count": 29,
   "id": "9a6e051f",
   "metadata": {},
   "outputs": [],
   "source": [
    "class OptimizerChanger(callbacks.EarlyStopping):\n",
    "    \n",
    "    def __init__(self, x_train, y_train, **kwargs):\n",
    "        super(OptimizerChanger, self).__init__(**kwargs)\n",
    "        self.x_train = x_train\n",
    "        self.y_train = y_train\n",
    "        \n",
    "        \n",
    "    def on_train_end(self, logs=None):\n",
    "        self.model.compile(optimizer=\"SGD\", loss=\"binary_crossentropy\", metrics=[\"accuracy\"])\n",
    "        self.model.fit(self.x_train, self.y_train, epochs=10, batch_size=128, validation_split=0.1, shuffle=True)\n",
    "        \n",
    "        "
   ]
  },
  {
   "cell_type": "code",
   "execution_count": 30,
   "id": "3914e6f1",
   "metadata": {},
   "outputs": [],
   "source": [
    "from keras.optimizers import Adam\n",
    "\n",
    "# 适用于sigmoid等普通函数的权重初始化\n",
    "from keras.initializers import glorot_normal\n",
    "# 适用于Relu激活函数的高斯分布初始化\n",
    "from keras.initializers import he_normal\n",
    "# 使用刚刚的模型，添加dropout等方法解决过拟合\n",
    "model = Sequential()\n",
    "model.add(embedding_layer)\n",
    "model.add(layers.LSTM(32, return_sequences=True, recurrent_dropout=0.5, kernel_regularizer=\"l2\"))\n",
    "model.add(layers.LeakyReLU(alpha=0.01))\n",
    "model.add(layers.Dropout(rate=0.3))\n",
    "\n",
    "model.add(layers.LSTM(64, recurrent_dropout=0.5, kernel_regularizer=\"l2\"))\n",
    "model.add(layers.LeakyReLU(alpha=0.01))\n",
    "model.add(layers.Dropout(rate=0.3))\n",
    "\n",
    "model.add(layers.Dense(64, kernel_initializer=he_normal()))\n",
    "model.add(layers.LeakyReLU(alpha=0.01))\n",
    "model.add(layers.Dropout(rate=0.3))\n",
    "\n",
    "model.add(layers.Dense(128, kernel_initializer=he_normal()))\n",
    "model.add(layers.LeakyReLU(alpha=0.01))\n",
    "model.add(layers.Dropout(rate=0.3))\n",
    "\n",
    "model.add(layers.Dense(256, kernel_initializer=he_normal()))\n",
    "model.add(layers.LeakyReLU(alpha=0.01))\n",
    "model.add(layers.Dropout(rate=0.3))\n",
    "\n",
    "model.add(layers.Dense(1, activation=\"sigmoid\", kernel_initializer=glorot_normal()))\n",
    "model.compile(optimizer=\"adam\", loss=\"binary_crossentropy\", metrics=[\"accuracy\"])"
   ]
  },
  {
   "cell_type": "code",
   "execution_count": 31,
   "id": "fd2f14f7",
   "metadata": {
    "scrolled": true
   },
   "outputs": [
    {
     "name": "stdout",
     "output_type": "stream",
     "text": [
      "Epoch 1/150\n",
      "176/176 [==============================] - 35s 182ms/step - loss: 1.4363 - accuracy: 0.5729 - val_loss: 0.6379 - val_accuracy: 0.7552\n",
      "Epoch 2/150\n",
      "176/176 [==============================] - 30s 172ms/step - loss: 0.6231 - accuracy: 0.7498 - val_loss: 0.4939 - val_accuracy: 0.8088\n",
      "Epoch 3/150\n",
      "176/176 [==============================] - 31s 176ms/step - loss: 0.5298 - accuracy: 0.7944 - val_loss: 0.4814 - val_accuracy: 0.8096\n",
      "Epoch 4/150\n",
      "176/176 [==============================] - 31s 174ms/step - loss: 0.5071 - accuracy: 0.8027 - val_loss: 0.4557 - val_accuracy: 0.8236\n",
      "Epoch 5/150\n",
      "176/176 [==============================] - 31s 177ms/step - loss: 0.4829 - accuracy: 0.8132 - val_loss: 0.5009 - val_accuracy: 0.8312\n",
      "Epoch 6/150\n",
      "176/176 [==============================] - 30s 173ms/step - loss: 0.4992 - accuracy: 0.7978 - val_loss: 0.4518 - val_accuracy: 0.8204\n",
      "Epoch 7/150\n",
      "176/176 [==============================] - 31s 173ms/step - loss: 0.4705 - accuracy: 0.8127 - val_loss: 0.4052 - val_accuracy: 0.8400\n",
      "Epoch 8/150\n",
      "176/176 [==============================] - 31s 176ms/step - loss: 0.4588 - accuracy: 0.8180 - val_loss: 0.3965 - val_accuracy: 0.8468\n",
      "Epoch 9/150\n",
      "176/176 [==============================] - 33s 185ms/step - loss: 0.4378 - accuracy: 0.8288 - val_loss: 0.3813 - val_accuracy: 0.8540\n",
      "Epoch 10/150\n",
      "176/176 [==============================] - 32s 180ms/step - loss: 0.4317 - accuracy: 0.8300 - val_loss: 0.3705 - val_accuracy: 0.8592\n",
      "Epoch 11/150\n",
      "176/176 [==============================] - 31s 175ms/step - loss: 0.4309 - accuracy: 0.8278 - val_loss: 0.4428 - val_accuracy: 0.8128\n",
      "Epoch 12/150\n",
      "176/176 [==============================] - 31s 174ms/step - loss: 0.4432 - accuracy: 0.8231 - val_loss: 0.4186 - val_accuracy: 0.8348\n",
      "Epoch 13/150\n",
      "176/176 [==============================] - 31s 176ms/step - loss: 0.4302 - accuracy: 0.8301 - val_loss: 0.3788 - val_accuracy: 0.8488\n",
      "Epoch 14/150\n",
      "176/176 [==============================] - 31s 176ms/step - loss: 0.4119 - accuracy: 0.8397 - val_loss: 0.4166 - val_accuracy: 0.8196\n",
      "Epoch 15/150\n",
      "176/176 [==============================] - 31s 173ms/step - loss: 0.4314 - accuracy: 0.8335 - val_loss: 0.3572 - val_accuracy: 0.8636\n",
      "Epoch 16/150\n",
      "176/176 [==============================] - 32s 181ms/step - loss: 0.4145 - accuracy: 0.8387 - val_loss: 0.3541 - val_accuracy: 0.8616\n",
      "Epoch 17/150\n",
      "176/176 [==============================] - 33s 186ms/step - loss: 0.4082 - accuracy: 0.8396 - val_loss: 0.3520 - val_accuracy: 0.8652\n",
      "Epoch 18/150\n",
      "176/176 [==============================] - 32s 181ms/step - loss: 0.4134 - accuracy: 0.8359 - val_loss: 0.3831 - val_accuracy: 0.8572\n",
      "Epoch 19/150\n",
      "176/176 [==============================] - 32s 184ms/step - loss: 0.3987 - accuracy: 0.8460 - val_loss: 0.3491 - val_accuracy: 0.8700\n",
      "Epoch 20/150\n",
      "176/176 [==============================] - 32s 184ms/step - loss: 0.4012 - accuracy: 0.8424 - val_loss: 0.4090 - val_accuracy: 0.8444\n",
      "Epoch 21/150\n",
      "176/176 [==============================] - 33s 187ms/step - loss: 0.4260 - accuracy: 0.8334 - val_loss: 0.3630 - val_accuracy: 0.8568\n",
      "Epoch 22/150\n",
      "176/176 [==============================] - 33s 188ms/step - loss: 0.4103 - accuracy: 0.8376 - val_loss: 0.3592 - val_accuracy: 0.8612\n",
      "Epoch 23/150\n",
      "176/176 [==============================] - 33s 190ms/step - loss: 0.4205 - accuracy: 0.8377 - val_loss: 0.3754 - val_accuracy: 0.8576\n",
      "Epoch 24/150\n",
      "176/176 [==============================] - 33s 189ms/step - loss: 0.4024 - accuracy: 0.8417 - val_loss: 0.3625 - val_accuracy: 0.8696\n",
      "\n",
      "Epoch 00024: ReduceLROnPlateau reducing learning rate to 0.0005000000237487257.\n",
      "Epoch 25/150\n",
      "176/176 [==============================] - 33s 189ms/step - loss: 0.3861 - accuracy: 0.8507 - val_loss: 0.3429 - val_accuracy: 0.8688\n",
      "Epoch 26/150\n",
      "176/176 [==============================] - 33s 190ms/step - loss: 0.3874 - accuracy: 0.8482 - val_loss: 0.3538 - val_accuracy: 0.8624\n",
      "Epoch 27/150\n",
      "176/176 [==============================] - 34s 194ms/step - loss: 0.3771 - accuracy: 0.8553 - val_loss: 0.3420 - val_accuracy: 0.8700\n",
      "Epoch 28/150\n",
      "176/176 [==============================] - 34s 196ms/step - loss: 0.3902 - accuracy: 0.8498 - val_loss: 0.3440 - val_accuracy: 0.8712\n",
      "Epoch 29/150\n",
      "176/176 [==============================] - 34s 194ms/step - loss: 0.3775 - accuracy: 0.8565 - val_loss: 0.3360 - val_accuracy: 0.8704\n",
      "Epoch 30/150\n",
      "176/176 [==============================] - 34s 194ms/step - loss: 0.3741 - accuracy: 0.8557 - val_loss: 0.3621 - val_accuracy: 0.8556\n",
      "Epoch 31/150\n",
      "176/176 [==============================] - 34s 195ms/step - loss: 0.3760 - accuracy: 0.8528 - val_loss: 0.3371 - val_accuracy: 0.8708\n",
      "Epoch 32/150\n",
      "176/176 [==============================] - 34s 194ms/step - loss: 0.3676 - accuracy: 0.8597 - val_loss: 0.3336 - val_accuracy: 0.8760\n",
      "Epoch 33/150\n",
      "176/176 [==============================] - 34s 194ms/step - loss: 0.3735 - accuracy: 0.8528 - val_loss: 0.3517 - val_accuracy: 0.8644\n",
      "Epoch 34/150\n",
      "176/176 [==============================] - 35s 199ms/step - loss: 0.3717 - accuracy: 0.8564 - val_loss: 0.3490 - val_accuracy: 0.8636\n",
      "Epoch 35/150\n",
      "176/176 [==============================] - 34s 194ms/step - loss: 0.3771 - accuracy: 0.8534 - val_loss: 0.3665 - val_accuracy: 0.8716\n",
      "Epoch 36/150\n",
      "176/176 [==============================] - 34s 195ms/step - loss: 0.3790 - accuracy: 0.8522 - val_loss: 0.3260 - val_accuracy: 0.8752\n",
      "Epoch 37/150\n",
      "176/176 [==============================] - 35s 200ms/step - loss: 0.3686 - accuracy: 0.8582 - val_loss: 0.3613 - val_accuracy: 0.8688\n",
      "Epoch 38/150\n",
      "176/176 [==============================] - 35s 197ms/step - loss: 0.3761 - accuracy: 0.8528 - val_loss: 0.3304 - val_accuracy: 0.8696\n",
      "Epoch 39/150\n",
      "176/176 [==============================] - 33s 190ms/step - loss: 0.3631 - accuracy: 0.8616 - val_loss: 0.3406 - val_accuracy: 0.8720\n",
      "Epoch 40/150\n",
      "176/176 [==============================] - 34s 196ms/step - loss: 0.3675 - accuracy: 0.8587 - val_loss: 0.3547 - val_accuracy: 0.8700\n",
      "Epoch 41/150\n",
      "176/176 [==============================] - 34s 195ms/step - loss: 0.3573 - accuracy: 0.8676 - val_loss: 0.3425 - val_accuracy: 0.8656\n",
      "\n",
      "Epoch 00041: ReduceLROnPlateau reducing learning rate to 0.0005.\n",
      "Epoch 42/150\n",
      "176/176 [==============================] - 36s 202ms/step - loss: 0.3614 - accuracy: 0.8620 - val_loss: 0.3692 - val_accuracy: 0.8604\n",
      "Epoch 43/150\n",
      "176/176 [==============================] - 35s 201ms/step - loss: 0.3703 - accuracy: 0.8588 - val_loss: 0.3368 - val_accuracy: 0.8748\n",
      "Epoch 44/150\n",
      "176/176 [==============================] - 35s 201ms/step - loss: 0.3655 - accuracy: 0.8571 - val_loss: 0.3219 - val_accuracy: 0.8788\n",
      "Epoch 45/150\n",
      "176/176 [==============================] - 36s 205ms/step - loss: 0.3634 - accuracy: 0.8615 - val_loss: 0.3343 - val_accuracy: 0.8784\n",
      "Epoch 46/150\n",
      "176/176 [==============================] - 36s 203ms/step - loss: 0.3684 - accuracy: 0.8578 - val_loss: 0.3223 - val_accuracy: 0.8764\n",
      "Epoch 47/150\n",
      "176/176 [==============================] - 36s 206ms/step - loss: 0.3601 - accuracy: 0.8631 - val_loss: 0.3398 - val_accuracy: 0.8652\n",
      "Epoch 48/150\n",
      "176/176 [==============================] - 35s 201ms/step - loss: 0.3692 - accuracy: 0.8588 - val_loss: 0.3228 - val_accuracy: 0.8752\n",
      "Epoch 49/150\n",
      "176/176 [==============================] - 36s 202ms/step - loss: 0.3518 - accuracy: 0.8657 - val_loss: 0.3399 - val_accuracy: 0.8756\n",
      "Epoch 50/150\n",
      "176/176 [==============================] - 35s 199ms/step - loss: 0.3601 - accuracy: 0.8641 - val_loss: 0.3515 - val_accuracy: 0.8660\n",
      "Epoch 51/150\n",
      "176/176 [==============================] - 35s 201ms/step - loss: 0.3558 - accuracy: 0.8626 - val_loss: 0.3719 - val_accuracy: 0.8492\n",
      "Epoch 52/150\n",
      "176/176 [==============================] - 36s 203ms/step - loss: 0.3667 - accuracy: 0.8585 - val_loss: 0.3268 - val_accuracy: 0.8788\n",
      "Epoch 53/150\n",
      "176/176 [==============================] - 36s 203ms/step - loss: 0.3597 - accuracy: 0.8610 - val_loss: 0.3210 - val_accuracy: 0.8808\n",
      "Epoch 54/150\n",
      "176/176 [==============================] - 36s 203ms/step - loss: 0.3578 - accuracy: 0.8614 - val_loss: 0.3310 - val_accuracy: 0.8800\n",
      "Epoch 55/150\n",
      "176/176 [==============================] - 37s 208ms/step - loss: 0.3655 - accuracy: 0.8598 - val_loss: 0.3277 - val_accuracy: 0.8740\n"
     ]
    },
    {
     "name": "stdout",
     "output_type": "stream",
     "text": [
      "Epoch 56/150\n",
      "176/176 [==============================] - 35s 197ms/step - loss: 0.3555 - accuracy: 0.8644 - val_loss: 0.3375 - val_accuracy: 0.8792\n",
      "Epoch 57/150\n",
      "176/176 [==============================] - 35s 199ms/step - loss: 0.3548 - accuracy: 0.8659 - val_loss: 0.3396 - val_accuracy: 0.8724\n",
      "Epoch 58/150\n",
      "176/176 [==============================] - 35s 198ms/step - loss: 0.3534 - accuracy: 0.8646 - val_loss: 0.3239 - val_accuracy: 0.8836\n",
      "\n",
      "Epoch 00058: ReduceLROnPlateau reducing learning rate to 0.0005.\n",
      "Epoch 59/150\n",
      "176/176 [==============================] - 35s 200ms/step - loss: 0.3607 - accuracy: 0.8628 - val_loss: 0.3494 - val_accuracy: 0.8544\n",
      "Epoch 60/150\n",
      "176/176 [==============================] - 36s 202ms/step - loss: 0.3613 - accuracy: 0.8652 - val_loss: 0.3222 - val_accuracy: 0.8836\n",
      "Epoch 61/150\n",
      "176/176 [==============================] - 35s 199ms/step - loss: 0.3471 - accuracy: 0.8669 - val_loss: 0.3304 - val_accuracy: 0.8792\n",
      "Epoch 62/150\n",
      "176/176 [==============================] - 36s 205ms/step - loss: 0.3505 - accuracy: 0.8684 - val_loss: 0.3338 - val_accuracy: 0.8744\n",
      "Epoch 63/150\n",
      "176/176 [==============================] - 35s 201ms/step - loss: 0.3561 - accuracy: 0.8623 - val_loss: 0.3408 - val_accuracy: 0.8760\n",
      "Epoch 64/150\n",
      "176/176 [==============================] - 36s 202ms/step - loss: 0.3515 - accuracy: 0.8642 - val_loss: 0.3219 - val_accuracy: 0.8816\n",
      "Epoch 65/150\n",
      "176/176 [==============================] - 35s 201ms/step - loss: 0.3623 - accuracy: 0.8603 - val_loss: 0.3330 - val_accuracy: 0.8772\n",
      "Epoch 66/150\n",
      "176/176 [==============================] - 36s 203ms/step - loss: 0.3496 - accuracy: 0.8686 - val_loss: 0.3281 - val_accuracy: 0.8748\n",
      "Epoch 67/150\n",
      "176/176 [==============================] - 37s 212ms/step - loss: 0.3525 - accuracy: 0.8647 - val_loss: 0.3127 - val_accuracy: 0.8848\n",
      "Epoch 68/150\n",
      "176/176 [==============================] - 36s 203ms/step - loss: 0.3525 - accuracy: 0.8639 - val_loss: 0.3431 - val_accuracy: 0.8696\n",
      "Epoch 69/150\n",
      "176/176 [==============================] - 36s 203ms/step - loss: 0.3509 - accuracy: 0.8656 - val_loss: 0.3140 - val_accuracy: 0.8848\n",
      "Epoch 70/150\n",
      "176/176 [==============================] - 36s 205ms/step - loss: 0.3565 - accuracy: 0.8653 - val_loss: 0.3151 - val_accuracy: 0.8800\n",
      "Epoch 71/150\n",
      "176/176 [==============================] - 36s 206ms/step - loss: 0.3551 - accuracy: 0.8657 - val_loss: 0.3209 - val_accuracy: 0.8800\n",
      "Epoch 72/150\n",
      "176/176 [==============================] - 36s 204ms/step - loss: 0.3428 - accuracy: 0.8705 - val_loss: 0.3409 - val_accuracy: 0.8728\n",
      "\n",
      "Epoch 00072: ReduceLROnPlateau reducing learning rate to 0.0005.\n",
      "Epoch 73/150\n",
      "176/176 [==============================] - 36s 207ms/step - loss: 0.3691 - accuracy: 0.8582 - val_loss: 0.3308 - val_accuracy: 0.8780\n",
      "Epoch 74/150\n",
      "176/176 [==============================] - 35s 201ms/step - loss: 0.3516 - accuracy: 0.8666 - val_loss: 0.3230 - val_accuracy: 0.8812\n",
      "Epoch 75/150\n",
      "176/176 [==============================] - 38s 214ms/step - loss: 0.3482 - accuracy: 0.8682 - val_loss: 0.3231 - val_accuracy: 0.8720\n",
      "Epoch 76/150\n",
      "176/176 [==============================] - 36s 203ms/step - loss: 0.3529 - accuracy: 0.8664 - val_loss: 0.3387 - val_accuracy: 0.8732\n",
      "Epoch 77/150\n",
      "176/176 [==============================] - 36s 204ms/step - loss: 0.3397 - accuracy: 0.8736 - val_loss: 0.3181 - val_accuracy: 0.8824\n",
      "Epoch 78/150\n",
      "176/176 [==============================] - 36s 206ms/step - loss: 0.3453 - accuracy: 0.8697 - val_loss: 0.3327 - val_accuracy: 0.8760\n",
      "Epoch 79/150\n",
      "176/176 [==============================] - 37s 211ms/step - loss: 0.3484 - accuracy: 0.8635 - val_loss: 0.3317 - val_accuracy: 0.8684\n",
      "Epoch 80/150\n",
      "176/176 [==============================] - 36s 205ms/step - loss: 0.3495 - accuracy: 0.8657 - val_loss: 0.3241 - val_accuracy: 0.8772\n",
      "Epoch 81/150\n",
      "176/176 [==============================] - 36s 203ms/step - loss: 0.3616 - accuracy: 0.8624 - val_loss: 0.3065 - val_accuracy: 0.8884\n",
      "Epoch 82/150\n",
      "176/176 [==============================] - 38s 215ms/step - loss: 0.3377 - accuracy: 0.8730 - val_loss: 0.3112 - val_accuracy: 0.8856\n",
      "Epoch 83/150\n",
      "176/176 [==============================] - 36s 204ms/step - loss: 0.3404 - accuracy: 0.8703 - val_loss: 0.3064 - val_accuracy: 0.8856\n",
      "Epoch 84/150\n",
      "176/176 [==============================] - 38s 215ms/step - loss: 0.3402 - accuracy: 0.8743 - val_loss: 0.3211 - val_accuracy: 0.8756\n",
      "Epoch 85/150\n",
      "176/176 [==============================] - 37s 209ms/step - loss: 0.3424 - accuracy: 0.8696 - val_loss: 0.3099 - val_accuracy: 0.8836\n",
      "Epoch 86/150\n",
      "176/176 [==============================] - 39s 220ms/step - loss: 0.3564 - accuracy: 0.8623 - val_loss: 0.3120 - val_accuracy: 0.8780\n",
      "\n",
      "Epoch 00086: ReduceLROnPlateau reducing learning rate to 0.0005.\n",
      "Epoch 87/150\n",
      "176/176 [==============================] - 37s 211ms/step - loss: 0.3497 - accuracy: 0.8645 - val_loss: 0.3903 - val_accuracy: 0.8320\n",
      "Epoch 88/150\n",
      "176/176 [==============================] - 36s 207ms/step - loss: 0.3567 - accuracy: 0.8630 - val_loss: 0.3127 - val_accuracy: 0.8832\n",
      "Epoch 89/150\n",
      "176/176 [==============================] - 37s 210ms/step - loss: 0.3374 - accuracy: 0.8749 - val_loss: 0.3100 - val_accuracy: 0.8836\n",
      "Epoch 90/150\n",
      "176/176 [==============================] - 36s 205ms/step - loss: 0.3454 - accuracy: 0.8696 - val_loss: 0.3280 - val_accuracy: 0.8748\n",
      "Epoch 91/150\n",
      "176/176 [==============================] - 36s 206ms/step - loss: 0.3431 - accuracy: 0.8668 - val_loss: 0.3498 - val_accuracy: 0.8696\n",
      "Epoch 92/150\n",
      "176/176 [==============================] - 36s 206ms/step - loss: 0.3482 - accuracy: 0.8663 - val_loss: 0.3168 - val_accuracy: 0.8808\n",
      "Epoch 93/150\n",
      "176/176 [==============================] - 37s 208ms/step - loss: 0.3454 - accuracy: 0.8690 - val_loss: 0.3144 - val_accuracy: 0.8844\n",
      "Epoch 94/150\n",
      "176/176 [==============================] - 37s 210ms/step - loss: 0.3437 - accuracy: 0.8689 - val_loss: 0.3379 - val_accuracy: 0.8800\n",
      "Epoch 95/150\n",
      "176/176 [==============================] - 36s 207ms/step - loss: 0.3365 - accuracy: 0.8716 - val_loss: 0.3632 - val_accuracy: 0.8764\n",
      "Epoch 96/150\n",
      "176/176 [==============================] - 36s 204ms/step - loss: 0.3428 - accuracy: 0.8711 - val_loss: 0.3076 - val_accuracy: 0.8840\n",
      "Epoch 97/150\n",
      "176/176 [==============================] - 36s 207ms/step - loss: 0.3467 - accuracy: 0.8682 - val_loss: 0.3280 - val_accuracy: 0.8804\n",
      "Epoch 98/150\n",
      "176/176 [==============================] - 36s 203ms/step - loss: 0.3420 - accuracy: 0.8734 - val_loss: 0.3191 - val_accuracy: 0.8780\n",
      "Epoch 99/150\n",
      "176/176 [==============================] - 36s 206ms/step - loss: 0.3348 - accuracy: 0.8737 - val_loss: 0.3218 - val_accuracy: 0.8820\n",
      "Epoch 100/150\n",
      "176/176 [==============================] - 38s 214ms/step - loss: 0.3355 - accuracy: 0.8727 - val_loss: 0.3166 - val_accuracy: 0.8804\n",
      "\n",
      "Epoch 00100: ReduceLROnPlateau reducing learning rate to 0.0005.\n",
      "Epoch 101/150\n",
      "176/176 [==============================] - 36s 207ms/step - loss: 0.3348 - accuracy: 0.8762 - val_loss: 0.3268 - val_accuracy: 0.8832\n",
      "Epoch 102/150\n",
      "176/176 [==============================] - 36s 206ms/step - loss: 0.3384 - accuracy: 0.8738 - val_loss: 0.3369 - val_accuracy: 0.8744\n",
      "Epoch 103/150\n",
      "176/176 [==============================] - 38s 214ms/step - loss: 0.3362 - accuracy: 0.8730 - val_loss: 0.3103 - val_accuracy: 0.8804\n"
     ]
    }
   ],
   "source": [
    "cbs = [\n",
    "    callbacks.ModelCheckpoint(\"./word2vec_best_model_d.h5\", save_best_only=True),\n",
    "    callbacks.ReduceLROnPlateau(factor=0.5, patience=5, verbose=1, cooldown=10, min_lr=5e-4),\n",
    "    callbacks.EarlyStopping(patience=20, restore_best_weights=True)\n",
    "]\n",
    "ht = model.fit(x_train, labels, epochs=150, batch_size=128, validation_split=0.1, callbacks=cbs, shuffle=True)\n"
   ]
  },
  {
   "cell_type": "code",
   "execution_count": 32,
   "id": "5b76affc",
   "metadata": {},
   "outputs": [],
   "source": [
    "word2vec_hd = ht.history\n",
    "accuracy = word2vec_hd[\"accuracy\"]\n",
    "val_accuracy = word2vec_hd[\"val_accuracy\"]\n",
    "\n",
    "loss = word2vec_hd[\"loss\"]\n",
    "val_loss = word2vec_hd[\"val_loss\"]\n",
    "\n",
    "epochs = range(1, len(loss) + 1)"
   ]
  },
  {
   "cell_type": "code",
   "execution_count": 33,
   "id": "70942555",
   "metadata": {},
   "outputs": [
    {
     "data": {
      "text/plain": [
       "<matplotlib.legend.Legend at 0x7fb6d6477490>"
      ]
     },
     "execution_count": 33,
     "metadata": {},
     "output_type": "execute_result"
    },
    {
     "data": {
      "image/png": "[encoded data removed]",
      "text/plain": [
       "<Figure size 432x288 with 1 Axes>"
      ]
     },
     "metadata": {
      "needs_background": "light"
     },
     "output_type": "display_data"
    }
   ],
   "source": [
    "plt.plot(epochs, accuracy, label=\"Training Accuracy\")\n",
    "plt.plot(epochs, val_accuracy, label=\"Validational Accuracy\")\n",
    "plt.title(\"Training and Validational Accuracy\")\n",
    "plt.xlabel(\"Epochs\")\n",
    "plt.ylabel(\"Accuracy\")\n",
    "plt.legend()"
   ]
  },
  {
   "cell_type": "code",
   "execution_count": 34,
   "id": "908f7544",
   "metadata": {},
   "outputs": [
    {
     "data": {
      "text/plain": [
       "<matplotlib.legend.Legend at 0x7fb6c57b44f0>"
      ]
     },
     "execution_count": 34,
     "metadata": {},
     "output_type": "execute_result"
    },
    {
     "data": {
      "image/png": "[encoded data removed]",
      "text/plain": [
       "<Figure size 432x288 with 1 Axes>"
      ]
     },
     "metadata": {
      "needs_background": "light"
     },
     "output_type": "display_data"
    }
   ],
   "source": [
    "plt.plot(epochs, loss, label=\"Training Loss\")\n",
    "plt.plot(epochs, val_loss, label=\"Validational Loss\")\n",
    "plt.title(\"Training and Validational Loss\")\n",
    "plt.xlabel(\"Epochs\")\n",
    "plt.ylabel(\"Loss\")\n",
    "plt.legend()"
   ]
  },
  {
   "cell_type": "markdown",
   "id": "d5a3daa4",
   "metadata": {},
   "source": [
    "### 训练过程记录\n",
    "1. LSTM: (32, 64), kernel_regularizer=l2, dropout=0.3<br>\n",
    "   Dense: (64, 128, 256), dropout=0.3 <br>\n",
    "   Epochs: 20<br>\n",
    "   结果: 没有过拟合, 但没有完全收敛成功，添加了规则以后需要适当增加训练轮次。\\\n",
    "   \n",
    "2. LSTM: (32, 64), kernel_regularizer=l2, dropout=0.3<br>\n",
    "   Dense: (64, 128, 256), dropout=0.3 <br>\n",
    "   Epochs: **40**<br>\n",
    "   结果: 最终于35轮以后开始过拟合，对比没有使用规则的模型，取得了很大进步。\n",
    "   \n",
    "3. LSTM: (32, 64), kernel_regularizer=l2, dropout=0.3, **recurrent_dropout=0.5**<br>\n",
    "   Dense: (64, 128, 256), dropout=0.3 <br>\n",
    "   Epochs: **100**<br>\n",
    "   结果: 最终结果于67轮以后开始过拟合，验证精度不再上升，最终测试精度在86%。\n",
    "   \n",
    "4. LSTM: (32, 64), kernel_regularizer=l2, dropout=0.3, **recurrent_dropout=0.5**<br>\n",
    "   Dense: (64, 128, 256), dropout=0.3 <br>\n",
    "   Epochs: **150**<br>\n",
    "   结果：模型没有过拟合，并且使用提前停止和保存最优方案。"
   ]
  },
  {
   "cell_type": "code",
   "execution_count": 35,
   "id": "0274cbb9",
   "metadata": {},
   "outputs": [],
   "source": [
    "from keras.models import load_model"
   ]
  },
  {
   "cell_type": "code",
   "execution_count": 36,
   "id": "35ddbbde",
   "metadata": {},
   "outputs": [],
   "source": [
    "text_corpus, y_test = load_data(\"test\")"
   ]
  },
  {
   "cell_type": "code",
   "execution_count": 37,
   "id": "b0f12ae0",
   "metadata": {},
   "outputs": [],
   "source": [
    "x_test = tokenizer.texts_to_sequences(text_corpus)"
   ]
  },
  {
   "cell_type": "code",
   "execution_count": 38,
   "id": "d5ecf1fc",
   "metadata": {},
   "outputs": [],
   "source": [
    "x_test = pad_sequences(x_test, maxlen=max_len)"
   ]
  },
  {
   "cell_type": "code",
   "execution_count": 39,
   "id": "fc4ca877",
   "metadata": {},
   "outputs": [],
   "source": [
    "test_indicies = np.arange(0, len(x_test))\n",
    "np.random.shuffle(test_indicies)\n",
    "x_test, y_test = x_test[test_indicies], y_test[test_indicies]"
   ]
  },
  {
   "cell_type": "code",
   "execution_count": 40,
   "id": "dffb1f12",
   "metadata": {},
   "outputs": [],
   "source": [
    "model = load_model(\"./word2vec_best_model.h5\")"
   ]
  },
  {
   "cell_type": "code",
   "execution_count": 41,
   "id": "775a5c03",
   "metadata": {},
   "outputs": [
    {
     "name": "stdout",
     "output_type": "stream",
     "text": [
      "WARNING:tensorflow:Model was constructed with shape (None, 100) for input KerasTensor(type_spec=TensorSpec(shape=(None, 100), dtype=tf.float32, name='embedding_1_input'), name='embedding_1_input', description=\"created by layer 'embedding_1_input'\"), but it was called on an input with incompatible shape (None, 150).\n",
      "782/782 [==============================] - 23s 29ms/step - loss: 0.2957 - accuracy: 0.8863\n"
     ]
    },
    {
     "data": {
      "text/plain": [
       "[0.29574859142303467, 0.8862800002098083]"
      ]
     },
     "execution_count": 41,
     "metadata": {},
     "output_type": "execute_result"
    }
   ],
   "source": [
    "model.evaluate(x_test, y_test)"
   ]
  },
  {
   "cell_type": "markdown",
   "id": "67f4314d",
   "metadata": {},
   "source": [
    "### 1D CNN for NLP\n",
    "\n",
    "卷积网络的本质是空间识别，它具有平移不变性，在某个空间学习到的模式可以在其他空间识别出来；<br>\n",
    "加上池化层的降维，可以防止过拟合；<br>\n",
    "网络越往后拥有的表达能力越强，前面学习的是局部模式，由局部组成后面的抽象表示。"
   ]
  },
  {
   "cell_type": "code",
   "execution_count": 42,
   "id": "a2ed8511",
   "metadata": {},
   "outputs": [],
   "source": [
    "# 训练一维cnn网络来解决同样的问题\n",
    "cnn_model = Sequential()\n",
    "cnn_model.add(embedding_layer)\n",
    "\n",
    "# 由128个长度为7的一维卷积核与词向量作卷积，输出128个特征图，每个特征图的尺寸为150-7+1=144，\n",
    "# 权重添加l2惩罚，避免过拟合；使用了BN层，使用不再需要bias。\n",
    "cnn_model.add(layers.Conv1D(128, 7, kernel_regularizer='l2', activation='relu', use_bias=False))\n",
    "# 对第一层作BN传入下一层\n",
    "cnn_model.add(layers.BatchNormalization())\n",
    "\n",
    "cnn_model.add(layers.Conv1D(128, 7, kernel_regularizer='l2', activation='relu', use_bias=False))\n",
    "cnn_model.add(layers.BatchNormalization())\n",
    "cnn_model.add(layers.MaxPool1D(3))\n",
    "cnn_model.add(layers.BatchNormalization())\n",
    "\n",
    "cnn_model.add(layers.Conv1D(64, 7, kernel_regularizer='l2', activation='relu', use_bias=False))\n",
    "cnn_model.add(layers.BatchNormalization())\n",
    "\n",
    "cnn_model.add(layers.Conv1D(64, 5, kernel_regularizer='l2', activation='relu', use_bias=False))\n",
    "cnn_model.add(layers.BatchNormalization())\n",
    "cnn_model.add(layers.MaxPool1D(3))\n",
    "cnn_model.add(layers.BatchNormalization())\n",
    "\n",
    "# cnn_model.add(layers.LSTM(32, dropout=0.5, recurrent_dropout=0.5, return_sequences=True, kernel_regularizer='l2',\n",
    "#                           kernel_initializer=glorot_normal(), recurrent_regularizer='l2'))\n",
    "cnn_model.add(layers.LSTM(64, dropout=0.5, recurrent_dropout=0.5, kernel_regularizer='l2',\n",
    "                          kernel_initializer=glorot_normal(), recurrent_regularizer='l2'))\n",
    "cnn_model.add(layers.BatchNormalization())\n",
    "\n",
    "cnn_model.add(layers.Dense(128, activation=\"relu\", use_bias=False))\n",
    "cnn_model.add(layers.Dropout(0.5))\n",
    "cnn_model.add(layers.BatchNormalization())\n",
    "\n",
    "cnn_model.add(layers.Dense(1, activation=\"sigmoid\"))\n",
    "cnn_model.compile(loss=\"binary_crossentropy\", optimizer=Adam(learning_rate=0.01), metrics=[\"accuracy\"])"
   ]
  },
  {
   "cell_type": "code",
   "execution_count": 43,
   "id": "c67002a7",
   "metadata": {
    "scrolled": true
   },
   "outputs": [
    {
     "name": "stdout",
     "output_type": "stream",
     "text": [
      "Epoch 1/150\n",
      "176/176 [==============================] - 31s 159ms/step - loss: 3.7355 - accuracy: 0.7285 - val_loss: 0.9544 - val_accuracy: 0.7720\n",
      "Epoch 2/150\n",
      "176/176 [==============================] - 33s 189ms/step - loss: 0.7374 - accuracy: 0.7857 - val_loss: 0.8667 - val_accuracy: 0.7668\n",
      "Epoch 3/150\n",
      "176/176 [==============================] - 31s 175ms/step - loss: 0.7602 - accuracy: 0.7994 - val_loss: 1.0965 - val_accuracy: 0.6196\n",
      "Epoch 4/150\n",
      "176/176 [==============================] - 32s 179ms/step - loss: 0.7122 - accuracy: 0.8120 - val_loss: 1.1056 - val_accuracy: 0.6740\n",
      "Epoch 5/150\n",
      "176/176 [==============================] - 32s 181ms/step - loss: 0.6401 - accuracy: 0.8176 - val_loss: 2.0017 - val_accuracy: 0.5136\n",
      "Epoch 6/150\n",
      "176/176 [==============================] - 32s 183ms/step - loss: 0.6170 - accuracy: 0.8233 - val_loss: 1.5641 - val_accuracy: 0.5708\n",
      "Epoch 7/150\n",
      "176/176 [==============================] - 32s 183ms/step - loss: 0.5989 - accuracy: 0.8150 - val_loss: 0.7526 - val_accuracy: 0.6624\n",
      "Epoch 8/150\n",
      "176/176 [==============================] - 33s 188ms/step - loss: 0.5960 - accuracy: 0.8205 - val_loss: 0.5740 - val_accuracy: 0.8284\n",
      "Epoch 9/150\n",
      "176/176 [==============================] - 32s 181ms/step - loss: 0.5763 - accuracy: 0.8207 - val_loss: 1.2090 - val_accuracy: 0.6560\n",
      "Epoch 10/150\n",
      "176/176 [==============================] - 33s 189ms/step - loss: 0.5478 - accuracy: 0.8237 - val_loss: 0.5748 - val_accuracy: 0.8024\n",
      "Epoch 11/150\n",
      "176/176 [==============================] - 33s 189ms/step - loss: 0.5350 - accuracy: 0.8221 - val_loss: 0.5215 - val_accuracy: 0.8404\n",
      "Epoch 12/150\n",
      "176/176 [==============================] - 32s 184ms/step - loss: 0.5381 - accuracy: 0.8253 - val_loss: 0.7975 - val_accuracy: 0.6452\n",
      "Epoch 13/150\n",
      "176/176 [==============================] - 32s 184ms/step - loss: 0.5536 - accuracy: 0.8239 - val_loss: 0.7647 - val_accuracy: 0.6200\n",
      "Epoch 14/150\n",
      "176/176 [==============================] - 32s 184ms/step - loss: 0.5231 - accuracy: 0.8225 - val_loss: 0.6372 - val_accuracy: 0.7044\n",
      "Epoch 15/150\n",
      "176/176 [==============================] - 33s 187ms/step - loss: 0.4986 - accuracy: 0.8272 - val_loss: 0.5433 - val_accuracy: 0.8216\n",
      "Epoch 16/150\n",
      "176/176 [==============================] - 32s 184ms/step - loss: 0.4757 - accuracy: 0.8289 - val_loss: 0.4637 - val_accuracy: 0.8436\n",
      "Epoch 17/150\n",
      "176/176 [==============================] - 33s 190ms/step - loss: 0.4810 - accuracy: 0.8275 - val_loss: 0.9387 - val_accuracy: 0.6244\n",
      "Epoch 18/150\n",
      "176/176 [==============================] - 32s 184ms/step - loss: 0.4905 - accuracy: 0.8279 - val_loss: 0.5864 - val_accuracy: 0.7384\n",
      "Epoch 19/150\n",
      "176/176 [==============================] - 33s 189ms/step - loss: 0.4729 - accuracy: 0.8305 - val_loss: 0.6721 - val_accuracy: 0.7272\n",
      "Epoch 20/150\n",
      "176/176 [==============================] - 33s 185ms/step - loss: 0.4770 - accuracy: 0.8322 - val_loss: 2.4031 - val_accuracy: 0.5124\n",
      "Epoch 21/150\n",
      "176/176 [==============================] - 32s 183ms/step - loss: 0.4811 - accuracy: 0.8246 - val_loss: 0.9179 - val_accuracy: 0.6272\n",
      "\n",
      "Epoch 00021: ReduceLROnPlateau reducing learning rate to 0.004999999888241291.\n",
      "Epoch 22/150\n",
      "176/176 [==============================] - 34s 192ms/step - loss: 0.4340 - accuracy: 0.8415 - val_loss: 0.5297 - val_accuracy: 0.7460\n",
      "Epoch 23/150\n",
      "176/176 [==============================] - 33s 185ms/step - loss: 0.4060 - accuracy: 0.8467 - val_loss: 0.6305 - val_accuracy: 0.7368\n",
      "Epoch 24/150\n",
      "176/176 [==============================] - 32s 181ms/step - loss: 0.4238 - accuracy: 0.8404 - val_loss: 0.8241 - val_accuracy: 0.6720\n",
      "Epoch 25/150\n",
      "176/176 [==============================] - 33s 188ms/step - loss: 0.4125 - accuracy: 0.8428 - val_loss: 0.4033 - val_accuracy: 0.8488\n",
      "Epoch 26/150\n",
      "176/176 [==============================] - 33s 189ms/step - loss: 0.4015 - accuracy: 0.8465 - val_loss: 0.8414 - val_accuracy: 0.6428\n",
      "Epoch 27/150\n",
      "176/176 [==============================] - 32s 184ms/step - loss: 0.4088 - accuracy: 0.8475 - val_loss: 0.3886 - val_accuracy: 0.8588\n",
      "Epoch 28/150\n",
      "176/176 [==============================] - 33s 186ms/step - loss: 0.4164 - accuracy: 0.8405 - val_loss: 0.4720 - val_accuracy: 0.8148\n",
      "Epoch 29/150\n",
      "176/176 [==============================] - 32s 182ms/step - loss: 0.4070 - accuracy: 0.8443 - val_loss: 1.4930 - val_accuracy: 0.5964\n",
      "Epoch 30/150\n",
      "176/176 [==============================] - 32s 182ms/step - loss: 0.4192 - accuracy: 0.8435 - val_loss: 0.7347 - val_accuracy: 0.6960\n",
      "Epoch 31/150\n",
      "176/176 [==============================] - 32s 183ms/step - loss: 0.4148 - accuracy: 0.8481 - val_loss: 0.4369 - val_accuracy: 0.8204\n",
      "Epoch 32/150\n",
      "176/176 [==============================] - 33s 186ms/step - loss: 0.4149 - accuracy: 0.8426 - val_loss: 0.6495 - val_accuracy: 0.7080\n",
      "\n",
      "Epoch 00032: ReduceLROnPlateau reducing learning rate to 0.0024999999441206455.\n",
      "Epoch 33/150\n",
      "176/176 [==============================] - 32s 183ms/step - loss: 0.3884 - accuracy: 0.8559 - val_loss: 0.3729 - val_accuracy: 0.8572\n",
      "Epoch 34/150\n",
      "176/176 [==============================] - 32s 184ms/step - loss: 0.3751 - accuracy: 0.8540 - val_loss: 0.5397 - val_accuracy: 0.7680\n",
      "Epoch 35/150\n",
      "176/176 [==============================] - 33s 186ms/step - loss: 0.3745 - accuracy: 0.8568 - val_loss: 0.5392 - val_accuracy: 0.7664\n",
      "Epoch 36/150\n",
      "176/176 [==============================] - 32s 184ms/step - loss: 0.3622 - accuracy: 0.8601 - val_loss: 0.3682 - val_accuracy: 0.8624\n",
      "Epoch 37/150\n",
      "176/176 [==============================] - 32s 184ms/step - loss: 0.3658 - accuracy: 0.8558 - val_loss: 0.5269 - val_accuracy: 0.7476\n",
      "Epoch 38/150\n",
      "176/176 [==============================] - 32s 181ms/step - loss: 0.3757 - accuracy: 0.8558 - val_loss: 0.4509 - val_accuracy: 0.8168\n",
      "Epoch 39/150\n",
      "176/176 [==============================] - 32s 180ms/step - loss: 0.3715 - accuracy: 0.8549 - val_loss: 0.5010 - val_accuracy: 0.7768\n",
      "Epoch 40/150\n",
      "176/176 [==============================] - 32s 183ms/step - loss: 0.3675 - accuracy: 0.8551 - val_loss: 0.4862 - val_accuracy: 0.7884\n",
      "Epoch 41/150\n",
      "176/176 [==============================] - 32s 183ms/step - loss: 0.3646 - accuracy: 0.8584 - val_loss: 0.3642 - val_accuracy: 0.8636\n",
      "Epoch 42/150\n",
      "176/176 [==============================] - 32s 183ms/step - loss: 0.3657 - accuracy: 0.8561 - val_loss: 0.8010 - val_accuracy: 0.6892\n",
      "Epoch 43/150\n",
      "176/176 [==============================] - 32s 182ms/step - loss: 0.3663 - accuracy: 0.8593 - val_loss: 0.3729 - val_accuracy: 0.8524\n",
      "Epoch 44/150\n",
      "176/176 [==============================] - 32s 183ms/step - loss: 0.3645 - accuracy: 0.8562 - val_loss: 0.5148 - val_accuracy: 0.7836\n",
      "Epoch 45/150\n",
      "176/176 [==============================] - 33s 187ms/step - loss: 0.3713 - accuracy: 0.8565 - val_loss: 0.7501 - val_accuracy: 0.7360\n",
      "Epoch 46/150\n",
      "176/176 [==============================] - 32s 183ms/step - loss: 0.3676 - accuracy: 0.8578 - val_loss: 0.4622 - val_accuracy: 0.8300\n",
      "\n",
      "Epoch 00046: ReduceLROnPlateau reducing learning rate to 0.0012499999720603228.\n",
      "Epoch 47/150\n",
      "176/176 [==============================] - 32s 182ms/step - loss: 0.3561 - accuracy: 0.8624 - val_loss: 0.5243 - val_accuracy: 0.7592\n",
      "Epoch 48/150\n",
      "176/176 [==============================] - 32s 181ms/step - loss: 0.3370 - accuracy: 0.8717 - val_loss: 0.3946 - val_accuracy: 0.8352\n",
      "Epoch 49/150\n",
      "176/176 [==============================] - 32s 183ms/step - loss: 0.3344 - accuracy: 0.8694 - val_loss: 0.4561 - val_accuracy: 0.8028\n",
      "Epoch 50/150\n",
      "176/176 [==============================] - 31s 179ms/step - loss: 0.3346 - accuracy: 0.8678 - val_loss: 0.3596 - val_accuracy: 0.8628\n",
      "Epoch 51/150\n",
      "176/176 [==============================] - 32s 182ms/step - loss: 0.3374 - accuracy: 0.8655 - val_loss: 0.3555 - val_accuracy: 0.8588\n",
      "Epoch 52/150\n",
      "176/176 [==============================] - 32s 183ms/step - loss: 0.3336 - accuracy: 0.8695 - val_loss: 0.3532 - val_accuracy: 0.8604\n",
      "Epoch 53/150\n",
      "176/176 [==============================] - 32s 180ms/step - loss: 0.3349 - accuracy: 0.8681 - val_loss: 0.5280 - val_accuracy: 0.7660\n",
      "Epoch 54/150\n",
      "176/176 [==============================] - 33s 188ms/step - loss: 0.3296 - accuracy: 0.8755 - val_loss: 0.4749 - val_accuracy: 0.7904\n",
      "Epoch 55/150\n"
     ]
    },
    {
     "name": "stdout",
     "output_type": "stream",
     "text": [
      "176/176 [==============================] - 31s 178ms/step - loss: 0.3341 - accuracy: 0.8740 - val_loss: 0.4128 - val_accuracy: 0.8300\n",
      "Epoch 56/150\n",
      "176/176 [==============================] - 32s 181ms/step - loss: 0.3345 - accuracy: 0.8707 - val_loss: 0.4848 - val_accuracy: 0.7948\n",
      "Epoch 57/150\n",
      "176/176 [==============================] - 32s 181ms/step - loss: 0.3315 - accuracy: 0.8732 - val_loss: 0.3683 - val_accuracy: 0.8560\n",
      "\n",
      "Epoch 00057: ReduceLROnPlateau reducing learning rate to 0.0006249999860301614.\n",
      "Epoch 58/150\n",
      "176/176 [==============================] - 31s 179ms/step - loss: 0.3246 - accuracy: 0.8742 - val_loss: 0.3442 - val_accuracy: 0.8628\n",
      "Epoch 59/150\n",
      "176/176 [==============================] - 32s 183ms/step - loss: 0.3196 - accuracy: 0.8740 - val_loss: 0.3486 - val_accuracy: 0.8604\n",
      "Epoch 60/150\n",
      "176/176 [==============================] - 31s 178ms/step - loss: 0.3119 - accuracy: 0.8773 - val_loss: 0.6071 - val_accuracy: 0.7316\n",
      "Epoch 61/150\n",
      "176/176 [==============================] - 31s 178ms/step - loss: 0.3118 - accuracy: 0.8764 - val_loss: 0.4465 - val_accuracy: 0.8056\n",
      "Epoch 62/150\n",
      "176/176 [==============================] - 32s 181ms/step - loss: 0.3106 - accuracy: 0.8806 - val_loss: 0.4557 - val_accuracy: 0.8036\n",
      "Epoch 63/150\n",
      "176/176 [==============================] - 32s 181ms/step - loss: 0.3107 - accuracy: 0.8779 - val_loss: 0.4890 - val_accuracy: 0.8128\n",
      "Epoch 64/150\n",
      "176/176 [==============================] - 31s 178ms/step - loss: 0.3090 - accuracy: 0.8767 - val_loss: 0.3992 - val_accuracy: 0.8432\n",
      "\n",
      "Epoch 00064: ReduceLROnPlateau reducing learning rate to 0.0003124999930150807.\n",
      "Epoch 65/150\n",
      "176/176 [==============================] - 31s 177ms/step - loss: 0.3054 - accuracy: 0.8820 - val_loss: 0.4043 - val_accuracy: 0.8380\n",
      "Epoch 66/150\n",
      "176/176 [==============================] - 31s 179ms/step - loss: 0.2983 - accuracy: 0.8853 - val_loss: 0.3868 - val_accuracy: 0.8404\n",
      "Epoch 67/150\n",
      "176/176 [==============================] - 32s 184ms/step - loss: 0.2902 - accuracy: 0.8884 - val_loss: 0.3832 - val_accuracy: 0.8456\n",
      "Epoch 68/150\n",
      "176/176 [==============================] - 31s 177ms/step - loss: 0.2961 - accuracy: 0.8863 - val_loss: 0.5011 - val_accuracy: 0.7920\n",
      "Epoch 69/150\n",
      "176/176 [==============================] - 31s 178ms/step - loss: 0.2998 - accuracy: 0.8828 - val_loss: 0.4080 - val_accuracy: 0.8252\n",
      "Epoch 70/150\n",
      "176/176 [==============================] - 31s 177ms/step - loss: 0.2985 - accuracy: 0.8860 - val_loss: 0.3691 - val_accuracy: 0.8488\n",
      "Epoch 71/150\n",
      "176/176 [==============================] - 32s 181ms/step - loss: 0.2925 - accuracy: 0.8883 - val_loss: 0.3794 - val_accuracy: 0.8500\n",
      "\n",
      "Epoch 00071: ReduceLROnPlateau reducing learning rate to 0.00015624999650754035.\n",
      "Epoch 72/150\n",
      "176/176 [==============================] - 31s 176ms/step - loss: 0.2911 - accuracy: 0.8903 - val_loss: 0.3672 - val_accuracy: 0.8548\n",
      "Epoch 73/150\n",
      "176/176 [==============================] - 32s 179ms/step - loss: 0.2860 - accuracy: 0.8918 - val_loss: 0.3672 - val_accuracy: 0.8480\n"
     ]
    }
   ],
   "source": [
    "cnn_cbs = [\n",
    "    callbacks.ReduceLROnPlateau(factor=0.5, patience=5, verbose=1, cooldown=3, min_lr=1e-4),\n",
    "    callbacks.ModelCheckpoint(\"./cnn_word2vec.h5\", save_best_only=True),\n",
    "    callbacks.EarlyStopping(patience=15, )\n",
    "]\n",
    "cnn_ht = cnn_model.fit(x_train, labels, epochs=150, batch_size=128, validation_split=0.1, shuffle=True, callbacks=cnn_cbs)\n"
   ]
  },
  {
   "cell_type": "code",
   "execution_count": 44,
   "id": "fc43ed10",
   "metadata": {},
   "outputs": [],
   "source": [
    "cnn_hd = cnn_ht.history\n",
    "accuracy = cnn_hd[\"accuracy\"]\n",
    "val_accuracy = cnn_hd[\"val_accuracy\"]\n",
    "\n",
    "loss = cnn_hd[\"loss\"]\n",
    "val_loss = cnn_hd[\"val_loss\"]\n",
    "\n",
    "epochs = range(1, len(loss) + 1)"
   ]
  },
  {
   "cell_type": "code",
   "execution_count": 45,
   "id": "751cf2fa",
   "metadata": {},
   "outputs": [
    {
     "data": {
      "text/plain": [
       "<matplotlib.legend.Legend at 0x7fb6dda92970>"
      ]
     },
     "execution_count": 45,
     "metadata": {},
     "output_type": "execute_result"
    },
    {
     "data": {
      "image/png": "[encoded data removed]",
      "text/plain": [
       "<Figure size 432x288 with 1 Axes>"
      ]
     },
     "metadata": {
      "needs_background": "light"
     },
     "output_type": "display_data"
    }
   ],
   "source": [
    "plt.plot(epochs, accuracy, label=\"Training Accuracy\")\n",
    "plt.plot(epochs, val_accuracy, label=\"Validational Accuracy\")\n",
    "plt.title(\"Training and Validational Accuracy\")\n",
    "plt.xlabel(\"Epochs\")\n",
    "plt.ylabel(\"Accuracy\")\n",
    "plt.legend()"
   ]
  },
  {
   "cell_type": "code",
   "execution_count": 46,
   "id": "fb2c9c0f",
   "metadata": {},
   "outputs": [
    {
     "data": {
      "text/plain": [
       "<matplotlib.legend.Legend at 0x7fb6dda66d00>"
      ]
     },
     "execution_count": 46,
     "metadata": {},
     "output_type": "execute_result"
    },
    {
     "data": {
      "image/png": "[encoded data removed]",
      "text/plain": [
       "<Figure size 432x288 with 1 Axes>"
      ]
     },
     "metadata": {
      "needs_background": "light"
     },
     "output_type": "display_data"
    }
   ],
   "source": [
    "plt.plot(epochs, loss, label=\"Training Loss\")\n",
    "plt.plot(epochs, val_loss, label=\"Validational Loss\")\n",
    "plt.title(\"Training and Validational Loss\")\n",
    "plt.xlabel(\"Epochs\")\n",
    "plt.ylabel(\"Loss\")\n",
    "plt.legend()"
   ]
  },
  {
   "cell_type": "code",
   "execution_count": 47,
   "id": "e61c44c1",
   "metadata": {},
   "outputs": [
    {
     "name": "stdout",
     "output_type": "stream",
     "text": [
      "782/782 [==============================] - 10s 12ms/step - loss: 0.3573 - accuracy: 0.8524\n"
     ]
    },
    {
     "data": {
      "text/plain": [
       "[0.3572794198989868, 0.852400004863739]"
      ]
     },
     "execution_count": 47,
     "metadata": {},
     "output_type": "execute_result"
    }
   ],
   "source": [
    "model = load_model(\"./cnn_word2vec.h5\")\n",
    "model.evaluate(x_test, y_test)"
   ]
  },
  {
   "cell_type": "markdown",
   "id": "4b8f1e06",
   "metadata": {},
   "source": [
    "### 结论\n",
    "一维cnn一样可以对序列作预测，并且cnn是识别空间的模式，对顺序不严格的序列可以用卷积神经网络来执行，但是一旦顺序重要就不能这样做，\n",
    "比如根据历史天气数据预测明天天气数据这种顺序性比较重要的回归问题。<br>\n",
    "最终神经网络以85%略逊于RNN的准确率完成任务，这或许数据里面有较多「转折」之类的语句，比如先表扬后批评的，cnn不能抓住「but」这种转折，它能对一些good，bad，awesome之类的代表性词语来判断句子是正面还是负面评价。<br>"
   ]
  },
  {
   "cell_type": "markdown",
   "id": "bae4aa4a",
   "metadata": {},
   "source": [
    "### BN层的作用\n",
    "- 可以使用更大的学习率。\n",
    "- BN的标准化过程会移除直流分量，不再需要bias。\n",
    "- 对权重的初始化也不再敏感。\n",
    "- 可以使用更深的网络。\n",
    "- 具有正则化作用，但不能代替L2或Dropout"
   ]
  }
 ],
 "metadata": {
  "kernelspec": {
   "display_name": "Python 3",
   "language": "python",
   "name": "python3"
  },
  "language_info": {
   "codemirror_mode": {
    "name": "ipython",
    "version": 3
   },
   "file_extension": ".py",
   "mimetype": "text/x-python",
   "name": "python",
   "nbconvert_exporter": "python",
   "pygments_lexer": "ipython3",
   "version": "3.8.8"
  }
 },
 "nbformat": 4,
 "nbformat_minor": 5
}
